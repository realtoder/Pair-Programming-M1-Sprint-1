{
 "cells": [
  {
   "cell_type": "markdown",
   "metadata": {},
   "source": [
    "# Pair programming Listas y Tuplas"
   ]
  },
  {
   "cell_type": "code",
   "execution_count": 4,
   "metadata": {},
   "outputs": [],
   "source": [
    "# Duplicar elementos de una lista\n",
    "#Descripción: Dada una lista de números, duplica cada elemento en la lista. Ejemplo:\n",
    "# dada la siguiente lista el output esperado es:\n",
    "#lista = [2, 4, 6, 8]\n",
    "#[2, 4, 6, 8, 2, 4, 6, 8]"
   ]
  },
  {
   "cell_type": "code",
   "execution_count": 5,
   "metadata": {},
   "outputs": [
    {
     "name": "stdout",
     "output_type": "stream",
     "text": [
      "[2, 4, 6, 8, 2, 4, 6, 8]\n"
     ]
    }
   ],
   "source": [
    "\n",
    "lista = [2, 4, 6, 8]\n",
    "lista.extend(lista)\n",
    "print(lista)"
   ]
  },
  {
   "cell_type": "code",
   "execution_count": 2,
   "metadata": {},
   "outputs": [],
   "source": [
    "#2.Combinar dos listas\n",
    "#Descripción: Dadas dos listas, crea una nueva lista que contenga todos los elementos de ambas listas. Ejemplo:\n",
    "# dadas las siguientes listas el output esperado es:\n",
    "#lista1 = [1, 2, 3]\n",
    "#lista2 = [4, 5, 6]"
   ]
  },
  {
   "cell_type": "code",
   "execution_count": 40,
   "metadata": {
    "ExecuteTime": {
     "end_time": "2024-02-10T18:46:59.989248900Z",
     "start_time": "2024-02-10T18:46:59.974266Z"
    }
   },
   "outputs": [
    {
     "name": "stdout",
     "output_type": "stream",
     "text": [
      "[1, 2, 3, 4, 5, 6]\n"
     ]
    }
   ],
   "source": [
    "lista1 = [1, 2, 3]\n",
    "lista2 = [4, 5, 6]\n",
    "lista3=(lista1+lista2)\n",
    "print(lista3)"
   ]
  },
  {
   "cell_type": "code",
   "execution_count": 41,
   "metadata": {
    "ExecuteTime": {
     "end_time": "2024-02-10T18:47:02.175449300Z",
     "start_time": "2024-02-10T18:47:02.147472200Z"
    },
    "collapsed": false
   },
   "outputs": [],
   "source": [
    "lista4=(lista1 , lista2)"
   ]
  },
  {
   "cell_type": "code",
   "execution_count": 42,
   "metadata": {
    "ExecuteTime": {
     "end_time": "2024-02-10T18:47:03.857167Z",
     "start_time": "2024-02-10T18:47:03.842672200Z"
    },
    "collapsed": false
   },
   "outputs": [
    {
     "name": "stdout",
     "output_type": "stream",
     "text": [
      "([1, 2, 3], [4, 5, 6])\n"
     ]
    }
   ],
   "source": [
    "print(lista4)"
   ]
  },
  {
   "cell_type": "code",
   "execution_count": 3,
   "metadata": {
    "ExecuteTime": {
     "end_time": "2024-02-10T17:59:36.686754100Z",
     "start_time": "2024-02-10T17:59:36.676257300Z"
    }
   },
   "outputs": [
    {
     "name": "stdout",
     "output_type": "stream",
     "text": [
      "[21]\n"
     ]
    }
   ],
   "source": [
    "# 3. Calcular la suma de una lista de números\n",
    "#Descripción: Dada una lista de números, calcula la suma de todos los elementos.\n",
    "\n",
    "numeros=[1+2+3+4+5+6]\n",
    "print(numeros)\n"
   ]
  },
  {
   "cell_type": "code",
   "execution_count": 8,
   "metadata": {
    "ExecuteTime": {
     "end_time": "2024-02-10T18:38:36.953809Z",
     "start_time": "2024-02-10T18:38:36.936316600Z"
    },
    "collapsed": false
   },
   "outputs": [
    {
     "name": "stdout",
     "output_type": "stream",
     "text": [
      "51\n"
     ]
    }
   ],
   "source": [
    "num1=[5,6,7,8,9,10,6]\n",
    "print(sum(num1))"
   ]
  },
  {
   "cell_type": "code",
   "execution_count": 19,
   "metadata": {
    "ExecuteTime": {
     "end_time": "2024-02-10T18:20:32.224779300Z",
     "start_time": "2024-02-10T18:20:32.212789300Z"
    },
    "collapsed": false
   },
   "outputs": [
    {
     "name": "stdout",
     "output_type": "stream",
     "text": [
      "[5, 6, 7, 8, 9, 10, 6]\n"
     ]
    }
   ],
   "source": [
    "print(num1)"
   ]
  },
  {
   "cell_type": "markdown",
   "metadata": {},
   "source": [
    "La lista se ha convertido en la suma "
   ]
  },
  {
   "cell_type": "code",
   "execution_count": 39,
   "metadata": {
    "ExecuteTime": {
     "end_time": "2024-02-10T18:46:47.809392400Z",
     "start_time": "2024-02-10T18:46:47.793899800Z"
    }
   },
   "outputs": [
    {
     "data": {
      "text/plain": [
       "7"
      ]
     },
     "execution_count": 39,
     "metadata": {},
     "output_type": "execute_result"
    }
   ],
   "source": [
    "#4.Encontrar el valor máximo en una lista\n",
    "#Descripción: Dada una lista de números, encuentra el valor máximo.\n",
    "\n",
    "lista4=[1,2,3,4,5,6,7,5]\n",
    "max(lista4)\n"
   ]
  },
  {
   "cell_type": "code",
   "execution_count": 27,
   "metadata": {},
   "outputs": [
    {
     "data": {
      "text/plain": [
       "8"
      ]
     },
     "execution_count": 27,
     "metadata": {},
     "output_type": "execute_result"
    }
   ],
   "source": [
    "#5.Calcular la longitud de una lista\n",
    "#Descripción: Dada una lista, calcula la cantidad de elementos que contiene.\n",
    "\n",
    "len(lista4)"
   ]
  },
  {
   "cell_type": "code",
   "execution_count": 33,
   "metadata": {},
   "outputs": [
    {
     "data": {
      "text/plain": [
       "5"
      ]
     },
     "execution_count": 33,
     "metadata": {},
     "output_type": "execute_result"
    }
   ],
   "source": [
    "#6.Encontrar el índice de un elemento en una lista\n",
    "#Descripción: Dada una lista y un valor objetivo, encuentra el índice del primer elemento que coincida con el valor objetivo.\n",
    "#vamos a buscar el numero 5\n",
    "lista4[4]"
   ]
  },
  {
   "cell_type": "code",
   "execution_count": 20,
   "metadata": {
    "ExecuteTime": {
     "end_time": "2024-02-10T18:20:43.146913700Z",
     "start_time": "2024-02-10T18:20:43.133886700Z"
    },
    "collapsed": false
   },
   "outputs": [
    {
     "data": {
      "text/plain": [
       "4"
      ]
     },
     "execution_count": 20,
     "metadata": {},
     "output_type": "execute_result"
    }
   ],
   "source": [
    "#vamos a buscar el numero 9\n",
    "num1.index(9)"
   ]
  },
  {
   "cell_type": "code",
   "execution_count": 21,
   "metadata": {
    "ExecuteTime": {
     "end_time": "2024-02-10T18:20:44.802234700Z",
     "start_time": "2024-02-10T18:20:44.789910600Z"
    },
    "collapsed": false
   },
   "outputs": [
    {
     "data": {
      "text/plain": [
       "9"
      ]
     },
     "execution_count": 21,
     "metadata": {},
     "output_type": "execute_result"
    }
   ],
   "source": [
    "num1[4]"
   ]
  },
  {
   "cell_type": "code",
   "execution_count": 37,
   "metadata": {},
   "outputs": [
    {
     "data": {
      "text/plain": [
       "1"
      ]
     },
     "execution_count": 37,
     "metadata": {},
     "output_type": "execute_result"
    }
   ],
   "source": [
    "lista5=[\"MARIA\",\"R\"]\n",
    "lista5.index(\"R\")"
   ]
  },
  {
   "cell_type": "code",
   "execution_count": 38,
   "metadata": {},
   "outputs": [
    {
     "data": {
      "text/plain": [
       "2"
      ]
     },
     "execution_count": 38,
     "metadata": {},
     "output_type": "execute_result"
    }
   ],
   "source": [
    "#7.Contar ocurrencias de un elemento en una lista\n",
    "#Descripción: Dada una lista y un valor objetivo, cuenta cuántas veces aparece el valor objetivo en la lista.\n",
    "lista4.count(5)"
   ]
  },
  {
   "cell_type": "code",
   "execution_count": 22,
   "metadata": {
    "ExecuteTime": {
     "end_time": "2024-02-10T18:21:09.182767100Z",
     "start_time": "2024-02-10T18:21:09.175577900Z"
    },
    "collapsed": false
   },
   "outputs": [
    {
     "data": {
      "text/plain": [
       "2"
      ]
     },
     "execution_count": 22,
     "metadata": {},
     "output_type": "execute_result"
    }
   ],
   "source": [
    "num1.count(6)"
   ]
  },
  {
   "cell_type": "code",
   "execution_count": 39,
   "metadata": {},
   "outputs": [
    {
     "name": "stdout",
     "output_type": "stream",
     "text": [
      "[1, 2, 3, 4, 5, 6, 7, 5]\n"
     ]
    }
   ],
   "source": [
    "#8.Obtener una sublista de una lista\n",
    "#Descripción: Dada una lista, crea una nueva lista que contenga los elementos desde el índice 2 hasta el índice 5 (sin incluirlo).\n",
    "print(lista4)"
   ]
  },
  {
   "cell_type": "code",
   "execution_count": 23,
   "metadata": {
    "ExecuteTime": {
     "end_time": "2024-02-10T18:22:29.014141400Z",
     "start_time": "2024-02-10T18:22:29.007801200Z"
    },
    "collapsed": false
   },
   "outputs": [
    {
     "data": {
      "text/plain": [
       "[5, 6, 7, 8, 9, 10, 6]"
      ]
     },
     "execution_count": 23,
     "metadata": {},
     "output_type": "execute_result"
    }
   ],
   "source": [
    "num1"
   ]
  },
  {
   "cell_type": "code",
   "execution_count": 43,
   "metadata": {},
   "outputs": [
    {
     "data": {
      "text/plain": [
       "[3, 4, 5]"
      ]
     },
     "execution_count": 43,
     "metadata": {},
     "output_type": "execute_result"
    }
   ],
   "source": [
    "lista4[2:5]"
   ]
  },
  {
   "cell_type": "code",
   "execution_count": 24,
   "metadata": {
    "ExecuteTime": {
     "end_time": "2024-02-10T18:22:54.215697500Z",
     "start_time": "2024-02-10T18:22:54.208194400Z"
    },
    "collapsed": false
   },
   "outputs": [
    {
     "data": {
      "text/plain": [
       "[7, 8, 9]"
      ]
     },
     "execution_count": 24,
     "metadata": {},
     "output_type": "execute_result"
    }
   ],
   "source": [
    "num1[2:5]"
   ]
  },
  {
   "cell_type": "code",
   "execution_count": 44,
   "metadata": {},
   "outputs": [
    {
     "data": {
      "text/plain": [
       "5"
      ]
     },
     "execution_count": 44,
     "metadata": {},
     "output_type": "execute_result"
    }
   ],
   "source": [
    "#9.Obtener el último elemento de una lista\n",
    "#Descripción: Dada una lista, obtén el último elemento.\n",
    "lista4[-1]"
   ]
  },
  {
   "cell_type": "code",
   "execution_count": 25,
   "metadata": {
    "ExecuteTime": {
     "end_time": "2024-02-10T18:29:27.254620200Z",
     "start_time": "2024-02-10T18:29:27.247439400Z"
    },
    "collapsed": false
   },
   "outputs": [
    {
     "data": {
      "text/plain": [
       "6"
      ]
     },
     "execution_count": 25,
     "metadata": {},
     "output_type": "execute_result"
    }
   ],
   "source": [
    "num1[-1]"
   ]
  },
  {
   "cell_type": "code",
   "execution_count": 45,
   "metadata": {},
   "outputs": [
    {
     "name": "stdout",
     "output_type": "stream",
     "text": [
      "[1, 2, 3, 4, 5, 6, 7, 5]\n"
     ]
    }
   ],
   "source": [
    "#10.Obtener una sublista de una lista\n",
    "#Descripción: Dada una lista, obtén una sublista que contenga los elementos desde el índice 1 hasta el índice 3 (sin incluirlo).\n",
    "\n",
    "print(lista4)"
   ]
  },
  {
   "cell_type": "code",
   "execution_count": 60,
   "metadata": {},
   "outputs": [
    {
     "data": {
      "text/plain": [
       "[2, 3]"
      ]
     },
     "execution_count": 60,
     "metadata": {},
     "output_type": "execute_result"
    }
   ],
   "source": [
    "lista4[1:3]"
   ]
  },
  {
   "cell_type": "code",
   "execution_count": 26,
   "metadata": {
    "ExecuteTime": {
     "end_time": "2024-02-10T18:30:15.557850400Z",
     "start_time": "2024-02-10T18:30:15.532655500Z"
    },
    "collapsed": false
   },
   "outputs": [
    {
     "data": {
      "text/plain": [
       "[6, 7]"
      ]
     },
     "execution_count": 26,
     "metadata": {},
     "output_type": "execute_result"
    }
   ],
   "source": [
    "num1[1:3]"
   ]
  },
  {
   "cell_type": "code",
   "execution_count": 2,
   "metadata": {},
   "outputs": [
    {
     "name": "stdout",
     "output_type": "stream",
     "text": [
      "[1, 2, 3, 4, 5, 6, 7, 5]\n"
     ]
    }
   ],
   "source": [
    "#13.Reemplazar un elemento en una lista\n",
    "#Descripción: Dada una lista, reemplaza el segundo elemento con un nuevo valor.\n",
    "lista4=[1,2,3,4,5,6,7,5]\n",
    "print(lista4)"
   ]
  },
  {
   "cell_type": "code",
   "execution_count": 2,
   "metadata": {},
   "outputs": [
    {
     "data": {
      "text/plain": [
       "2"
      ]
     },
     "execution_count": 2,
     "metadata": {},
     "output_type": "execute_result"
    }
   ],
   "source": [
    "lista4.pop(1)"
   ]
  },
  {
   "cell_type": "code",
   "execution_count": 3,
   "metadata": {},
   "outputs": [
    {
     "name": "stdout",
     "output_type": "stream",
     "text": [
      "[1, 10, 2, 3, 4, 5, 6, 7, 5]\n"
     ]
    }
   ],
   "source": [
    "lista4.insert(1,10)\n",
    "print(lista4)"
   ]
  },
  {
   "cell_type": "code",
   "execution_count": 12,
   "metadata": {
    "ExecuteTime": {
     "end_time": "2024-02-10T18:39:49.816317500Z",
     "start_time": "2024-02-10T18:39:49.803821500Z"
    },
    "collapsed": false
   },
   "outputs": [
    {
     "data": {
      "text/plain": [
       "[5, 10, 10, 10, 6, 7, 8, 9, 10, 6]"
      ]
     },
     "execution_count": 12,
     "metadata": {},
     "output_type": "execute_result"
    }
   ],
   "source": [
    "num1"
   ]
  },
  {
   "cell_type": "code",
   "execution_count": 20,
   "metadata": {
    "ExecuteTime": {
     "end_time": "2024-02-10T18:40:39.136614400Z",
     "start_time": "2024-02-10T18:40:39.134109500Z"
    },
    "collapsed": false
   },
   "outputs": [
    {
     "name": "stdout",
     "output_type": "stream",
     "text": [
      "[5, 7, 8, 9, 10, 6]\n"
     ]
    }
   ],
   "source": [
    "num1.pop(1)\n",
    "print(num1)"
   ]
  },
  {
   "cell_type": "code",
   "execution_count": 21,
   "metadata": {
    "ExecuteTime": {
     "end_time": "2024-02-10T18:40:57.935297100Z",
     "start_time": "2024-02-10T18:40:57.914808200Z"
    },
    "collapsed": false
   },
   "outputs": [
    {
     "name": "stdout",
     "output_type": "stream",
     "text": [
      "[5, 10, 7, 8, 9, 10, 6]\n"
     ]
    }
   ],
   "source": [
    "num1.insert(1,10)\n",
    "print(num1)"
   ]
  },
  {
   "cell_type": "code",
   "execution_count": 7,
   "metadata": {},
   "outputs": [
    {
     "name": "stdout",
     "output_type": "stream",
     "text": [
      "[1, '10', 3, 4, 5, 6, 7, 5]\n",
      "[5, 7, 6, 5, 4, 3, '10', 1]\n"
     ]
    }
   ],
   "source": [
    "#13.Obtener una lista inversa\n",
    "#Descripción: Dada una lista, obtén una nueva lista que contenga los elementos en orden inverso.\n",
    "nuevalista4=lista4.copy()\n",
    "print(nuevalista4)\n",
    "\n",
    "nuevalista4.reverse()\n",
    "print(nuevalista4)"
   ]
  },
  {
   "cell_type": "code",
   "execution_count": 47,
   "metadata": {
    "ExecuteTime": {
     "end_time": "2024-02-10T18:48:42.143227700Z",
     "start_time": "2024-02-10T18:48:42.127299900Z"
    },
    "collapsed": false
   },
   "outputs": [
    {
     "data": {
      "text/plain": [
       "[5, 10, 7, 8, 9, 10, 6]"
      ]
     },
     "execution_count": 47,
     "metadata": {},
     "output_type": "execute_result"
    }
   ],
   "source": [
    "num1[::-1]"
   ]
  },
  {
   "cell_type": "code",
   "execution_count": 54,
   "metadata": {
    "ExecuteTime": {
     "end_time": "2024-02-10T18:49:50.230261300Z",
     "start_time": "2024-02-10T18:49:50.208769600Z"
    },
    "collapsed": false
   },
   "outputs": [
    {
     "data": {
      "text/plain": [
       "[6, 10, 9, 8, 7, 10, 5]"
      ]
     },
     "execution_count": 54,
     "metadata": {},
     "output_type": "execute_result"
    }
   ],
   "source": [
    "num1"
   ]
  },
  {
   "cell_type": "code",
   "execution_count": null,
   "metadata": {
    "collapsed": false
   },
   "outputs": [],
   "source": []
  },
  {
   "cell_type": "code",
   "execution_count": 55,
   "metadata": {
    "ExecuteTime": {
     "end_time": "2024-02-10T18:49:53.296423200Z",
     "start_time": "2024-02-10T18:49:53.292421100Z"
    },
    "collapsed": false
   },
   "outputs": [
    {
     "name": "stdout",
     "output_type": "stream",
     "text": [
      "[6, 10, 9, 8, 7, 10, 5]\n"
     ]
    }
   ],
   "source": [
    "num_inverso=num1.copy()\n",
    "print(num_inverso)"
   ]
  },
  {
   "cell_type": "code",
   "execution_count": 50,
   "metadata": {
    "ExecuteTime": {
     "end_time": "2024-02-10T18:48:58.745428700Z",
     "start_time": "2024-02-10T18:48:58.730933300Z"
    },
    "collapsed": false
   },
   "outputs": [
    {
     "name": "stdout",
     "output_type": "stream",
     "text": [
      "[5, 10, 7, 8, 9, 10, 6]\n"
     ]
    }
   ],
   "source": [
    "num_inverso.reverse()\n",
    "print(num_inverso)"
   ]
  },
  {
   "cell_type": "code",
   "execution_count": 3,
   "metadata": {
    "ExecuteTime": {
     "end_time": "2024-02-10T19:46:34.469038300Z",
     "start_time": "2024-02-10T19:46:34.451053Z"
    },
    "collapsed": false
   },
   "outputs": [],
   "source": [
    "listalau=[21,22,23,24,25,26]"
   ]
  },
  {
   "cell_type": "code",
   "execution_count": 17,
   "metadata": {
    "ExecuteTime": {
     "end_time": "2024-02-10T19:21:11.641235100Z",
     "start_time": "2024-02-10T19:21:11.625248500Z"
    },
    "collapsed": false
   },
   "outputs": [
    {
     "name": "stdout",
     "output_type": "stream",
     "text": [
      "[21, 22, 23, 24, 25, 26]\n"
     ]
    }
   ],
   "source": [
    "copialistalau=listalau.copy()\n",
    "print(copialistalau)"
   ]
  },
  {
   "cell_type": "code",
   "execution_count": 18,
   "metadata": {
    "ExecuteTime": {
     "end_time": "2024-02-10T19:21:13.451109500Z",
     "start_time": "2024-02-10T19:21:13.447111Z"
    },
    "collapsed": false
   },
   "outputs": [],
   "source": [
    "copialistalau.reverse()\n"
   ]
  },
  {
   "cell_type": "code",
   "execution_count": 19,
   "metadata": {
    "ExecuteTime": {
     "end_time": "2024-02-10T19:21:15.757422400Z",
     "start_time": "2024-02-10T19:21:15.690485500Z"
    },
    "collapsed": false
   },
   "outputs": [
    {
     "name": "stdout",
     "output_type": "stream",
     "text": [
      "[26, 25, 24, 23, 22, 21]\n"
     ]
    }
   ],
   "source": [
    "print(copialistalau)"
   ]
  },
  {
   "cell_type": "code",
   "execution_count": 63,
   "metadata": {
    "ExecuteTime": {
     "end_time": "2024-02-10T18:55:05.770105800Z",
     "start_time": "2024-02-10T18:55:05.748124900Z"
    }
   },
   "outputs": [],
   "source": [
    "#14.Ordenar una lista en orden ascendente\n",
    "#Descripción: Dada una lista de números, ordénala en orden ascendente."
   ]
  },
  {
   "cell_type": "code",
   "execution_count": 20,
   "metadata": {
    "ExecuteTime": {
     "end_time": "2024-02-10T19:21:18.580870600Z",
     "start_time": "2024-02-10T19:21:18.576766200Z"
    },
    "collapsed": false
   },
   "outputs": [
    {
     "data": {
      "text/plain": [
       "[26, 25, 24, 23, 22, 21]"
      ]
     },
     "execution_count": 20,
     "metadata": {},
     "output_type": "execute_result"
    }
   ],
   "source": [
    "copialistalau"
   ]
  },
  {
   "cell_type": "code",
   "execution_count": 21,
   "metadata": {
    "ExecuteTime": {
     "end_time": "2024-02-10T19:21:20.617072500Z",
     "start_time": "2024-02-10T19:21:20.612567100Z"
    },
    "collapsed": false
   },
   "outputs": [
    {
     "name": "stdout",
     "output_type": "stream",
     "text": [
      "[21, 22, 23, 24, 25, 26]\n"
     ]
    }
   ],
   "source": [
    "copialistalau.sort()\n",
    "print(copialistalau)"
   ]
  },
  {
   "cell_type": "code",
   "execution_count": null,
   "metadata": {
    "collapsed": false
   },
   "outputs": [],
   "source": [
    "copialistalau.sort()\n",
    "sorted()"
   ]
  },
  {
   "cell_type": "markdown",
   "metadata": {
    "collapsed": false
   },
   "source": [
    "# BONUS"
   ]
  },
  {
   "cell_type": "code",
   "execution_count": 4,
   "metadata": {
    "ExecuteTime": {
     "end_time": "2024-02-10T19:46:37.543856400Z",
     "start_time": "2024-02-10T19:46:37.524767800Z"
    },
    "collapsed": false
   },
   "outputs": [
    {
     "name": "stdout",
     "output_type": "stream",
     "text": [
      "[1, 2, 3, 4, 5, 6, 7, 8, 9, 10]\n"
     ]
    }
   ],
   "source": [
    "#15. Obtener elementos pares de una lista\n",
    "#Descripción: Dada una lista, obtén una nueva lista que contenga solo los elementos en posiciones pares.\n",
    "numeros=[1,2,3,4,5,6,7,8,9,10]\n",
    "print(numeros)"
   ]
  },
  {
   "cell_type": "code",
   "execution_count": 3,
   "metadata": {
    "ExecuteTime": {
     "end_time": "2024-02-10T19:13:21.643504700Z",
     "start_time": "2024-02-10T19:13:21.622016800Z"
    },
    "collapsed": false
   },
   "outputs": [
    {
     "name": "stdout",
     "output_type": "stream",
     "text": [
      "[2, 4, 6, 8, 10]\n"
     ]
    }
   ],
   "source": [
    "numero_pares= numeros[1::2]\n",
    "print(numero_pares)"
   ]
  },
  {
   "cell_type": "code",
   "execution_count": null,
   "metadata": {
    "collapsed": false
   },
   "outputs": [],
   "source": [
    "#16 Obtener una sublista saltando elementos\n",
    "#Descripción: Dada una lista, obtén una sublista que contenga los elementos saltando de 3 en 3."
   ]
  },
  {
   "cell_type": "code",
   "execution_count": 3,
   "metadata": {
    "ExecuteTime": {
     "end_time": "2024-02-10T19:41:56.792200100Z",
     "start_time": "2024-02-10T19:41:56.781701500Z"
    },
    "collapsed": false
   },
   "outputs": [
    {
     "data": {
      "text/plain": [
       "[1, 2, 3, 4, 5, 6, 7, 8, 9, 10]"
      ]
     },
     "execution_count": 3,
     "metadata": {},
     "output_type": "execute_result"
    }
   ],
   "source": [
    "numeros"
   ]
  },
  {
   "cell_type": "code",
   "execution_count": 30,
   "metadata": {
    "ExecuteTime": {
     "end_time": "2024-02-10T19:37:37.116425400Z",
     "start_time": "2024-02-10T19:37:37.064650400Z"
    },
    "collapsed": false
   },
   "outputs": [
    {
     "data": {
      "text/plain": [
       "[1, 4, 7, 10]"
      ]
     },
     "execution_count": 30,
     "metadata": {},
     "output_type": "execute_result"
    }
   ],
   "source": [
    "numeros[::3]"
   ]
  },
  {
   "cell_type": "code",
   "execution_count": 5,
   "metadata": {
    "ExecuteTime": {
     "end_time": "2024-02-10T19:42:02.449749400Z",
     "start_time": "2024-02-10T19:42:02.429765800Z"
    },
    "collapsed": false
   },
   "outputs": [
    {
     "name": "stdout",
     "output_type": "stream",
     "text": [
      "10\n"
     ]
    }
   ],
   "source": [
    "#17.Encontrar el segundo valor máximo en una lista\n",
    "#Descripción: Dada una lista de\n",
    "# números, encuentra el segundo valor máximo.\n",
    "segundo_max=max(numeros)\n",
    "print(segundo_max)"
   ]
  },
  {
   "cell_type": "code",
   "execution_count": 6,
   "metadata": {
    "ExecuteTime": {
     "end_time": "2024-02-10T19:42:07.131045200Z",
     "start_time": "2024-02-10T19:42:07.111062200Z"
    },
    "collapsed": false
   },
   "outputs": [],
   "source": [
    "numeros.remove(segundo_max)"
   ]
  },
  {
   "cell_type": "code",
   "execution_count": 7,
   "metadata": {
    "ExecuteTime": {
     "end_time": "2024-02-10T19:42:10.366977Z",
     "start_time": "2024-02-10T19:42:10.361471500Z"
    },
    "collapsed": false
   },
   "outputs": [
    {
     "name": "stdout",
     "output_type": "stream",
     "text": [
      "[1, 2, 3, 4, 5, 6, 7, 8, 9]\n"
     ]
    }
   ],
   "source": [
    "print(numeros)"
   ]
  },
  {
   "cell_type": "code",
   "execution_count": null,
   "metadata": {
    "collapsed": false
   },
   "outputs": [],
   "source": [
    "#18 Teórico. Debereis contestar la pregunta en una celda de markdown.\n",
    "#Descripción: ¿Qué diferencia existe entre el .sort() y el sorted()"
   ]
  },
  {
   "cell_type": "markdown",
   "metadata": {
    "collapsed": false
   },
   "source": [
    "Uno sobrescribe el sort() y el sorted() no, hay que añadirle una variable"
   ]
  },
  {
   "cell_type": "code",
   "execution_count": null,
   "metadata": {
    "collapsed": false
   },
   "outputs": [],
   "source": [
    "# 19 Agregar elementos a una lista utilizando append y extend\n",
    "#Descripción: Dada una lista inicial, agrega nuevos elementos utilizando tanto append como extend y observa las diferencias en el resultado final. El elemento que deberéis usar para añadir a la lista original tiene que ser una lista."
   ]
  },
  {
   "cell_type": "code",
   "execution_count": 6,
   "metadata": {
    "ExecuteTime": {
     "end_time": "2024-02-10T19:46:44.618633100Z",
     "start_time": "2024-02-10T19:46:44.613985600Z"
    },
    "collapsed": false
   },
   "outputs": [
    {
     "data": {
      "text/plain": [
       "[21, 22, 23, 24, 25, 26]"
      ]
     },
     "execution_count": 6,
     "metadata": {},
     "output_type": "execute_result"
    }
   ],
   "source": [
    "listalau"
   ]
  },
  {
   "cell_type": "code",
   "execution_count": 5,
   "metadata": {
    "ExecuteTime": {
     "end_time": "2024-02-10T19:46:42.509078500Z",
     "start_time": "2024-02-10T19:46:42.491554200Z"
    },
    "collapsed": false
   },
   "outputs": [
    {
     "data": {
      "text/plain": [
       "[1, 2, 3, 4, 5, 6, 7, 8, 9, 10]"
      ]
     },
     "execution_count": 5,
     "metadata": {},
     "output_type": "execute_result"
    }
   ],
   "source": [
    "numeros"
   ]
  },
  {
   "cell_type": "code",
   "execution_count": 14,
   "metadata": {
    "ExecuteTime": {
     "end_time": "2024-02-10T19:45:30.804473400Z",
     "start_time": "2024-02-10T19:45:30.784491400Z"
    },
    "collapsed": false
   },
   "outputs": [],
   "source": [
    "numeros.extend(listalau)"
   ]
  },
  {
   "cell_type": "code",
   "execution_count": 15,
   "metadata": {
    "ExecuteTime": {
     "end_time": "2024-02-10T19:45:40.521158600Z",
     "start_time": "2024-02-10T19:45:40.499671800Z"
    },
    "collapsed": false
   },
   "outputs": [
    {
     "name": "stdout",
     "output_type": "stream",
     "text": [
      "[1, 2, 3, 4, 5, 6, 7, 8, 9, 21, 22, 23, 24, 25, 26]\n"
     ]
    }
   ],
   "source": [
    "print(numeros)"
   ]
  },
  {
   "cell_type": "code",
   "execution_count": 7,
   "metadata": {
    "ExecuteTime": {
     "end_time": "2024-02-10T19:46:47.350082900Z",
     "start_time": "2024-02-10T19:46:47.330105100Z"
    },
    "collapsed": false
   },
   "outputs": [],
   "source": [
    "numeros.append(listalau)"
   ]
  },
  {
   "cell_type": "code",
   "execution_count": 8,
   "metadata": {
    "ExecuteTime": {
     "end_time": "2024-02-10T19:46:49.920875100Z",
     "start_time": "2024-02-10T19:46:49.901891400Z"
    },
    "collapsed": false
   },
   "outputs": [
    {
     "name": "stdout",
     "output_type": "stream",
     "text": [
      "[1, 2, 3, 4, 5, 6, 7, 8, 9, 10, [21, 22, 23, 24, 25, 26]]\n"
     ]
    }
   ],
   "source": [
    "print(numeros)"
   ]
  },
  {
   "cell_type": "markdown",
   "metadata": {
    "collapsed": false
   },
   "source": [
    "El extend mete los numeros en la lista y forman una en conjunto, en cambio el append mete una lista en la lista ya creada lo cual seria una lista de lista."
   ]
  },
  {
   "cell_type": "code",
   "execution_count": null,
   "metadata": {
    "collapsed": false
   },
   "outputs": [],
   "source": [
    "#20. Insertar un elemento en una posición específica\n",
    "#Descripción: Dada una lista, inserta un nuevo elemento en una posición específica determinada por el usuario (debereis usar la función input para preguntar al usuario en que posición quiere insertar el elemento)."
   ]
  },
  {
   "cell_type": "code",
   "execution_count": 9,
   "metadata": {
    "ExecuteTime": {
     "end_time": "2024-02-10T19:49:20.012802200Z",
     "start_time": "2024-02-10T19:49:19.982829700Z"
    },
    "collapsed": false
   },
   "outputs": [],
   "source": [
    "numeros=[1,2,3,4,5,6,7,8,9,10]"
   ]
  },
  {
   "cell_type": "code",
   "execution_count": 11,
   "metadata": {
    "ExecuteTime": {
     "end_time": "2024-02-10T19:50:30.557234100Z",
     "start_time": "2024-02-10T19:50:29.133925100Z"
    },
    "collapsed": false
   },
   "outputs": [],
   "source": [
    "posicion=int(input(\"inserta una posicion\"))"
   ]
  },
  {
   "cell_type": "code",
   "execution_count": 12,
   "metadata": {
    "ExecuteTime": {
     "end_time": "2024-02-10T19:50:43.924386400Z",
     "start_time": "2024-02-10T19:50:43.902406300Z"
    },
    "collapsed": false
   },
   "outputs": [
    {
     "name": "stdout",
     "output_type": "stream",
     "text": [
      "1\n"
     ]
    }
   ],
   "source": [
    "print(posicion)"
   ]
  },
  {
   "cell_type": "code",
   "execution_count": 15,
   "metadata": {
    "ExecuteTime": {
     "end_time": "2024-02-10T19:53:11.729780700Z",
     "start_time": "2024-02-10T19:53:11.708798800Z"
    },
    "collapsed": false
   },
   "outputs": [],
   "source": [
    "numeros.insert(posicion,25)"
   ]
  },
  {
   "cell_type": "code",
   "execution_count": 16,
   "metadata": {
    "ExecuteTime": {
     "end_time": "2024-02-10T19:53:13.872849100Z",
     "start_time": "2024-02-10T19:53:13.855359200Z"
    },
    "collapsed": false
   },
   "outputs": [
    {
     "name": "stdout",
     "output_type": "stream",
     "text": [
      "[1, 25, 2, 3, 4, 5, 6, 7, 8, 9, 10]\n"
     ]
    }
   ],
   "source": [
    "print(numeros)"
   ]
  },
  {
   "cell_type": "code",
   "execution_count": null,
   "metadata": {
    "collapsed": false
   },
   "outputs": [],
   "source": [
    "#21. Verificar si un elemento está presente en una lista\n",
    "#Descripción: Dada una lista, verifica si un elemento específico está presente en ella. Igual que el caso anterior, debereis preguntar al usuario que elemento quiere buscar en la lista. El resultado deberá ser True o False."
   ]
  },
  {
   "cell_type": "code",
   "execution_count": 31,
   "metadata": {
    "ExecuteTime": {
     "end_time": "2024-02-10T19:58:47.944559700Z",
     "start_time": "2024-02-10T19:58:46.357114500Z"
    },
    "collapsed": false
   },
   "outputs": [
    {
     "name": "stdout",
     "output_type": "stream",
     "text": [
      "False\n"
     ]
    }
   ],
   "source": [
    "elemento=int(input(\"inserta una elemento\"))\n",
    "print(elemento in numeros)"
   ]
  },
  {
   "cell_type": "code",
   "execution_count": null,
   "metadata": {
    "collapsed": false
   },
   "outputs": [],
   "source": [
    "#22. Manipulación de una lista utilizando remove(), pop() y clear()\n",
    "#Descripción: Crea una lista inicial, realiza operaciones de eliminación y limpieza utilizando los métodos remove(), pop() y clear(), y observa cómo afectan a la lista."
   ]
  },
  {
   "cell_type": "code",
   "execution_count": 1,
   "metadata": {
    "ExecuteTime": {
     "end_time": "2024-02-10T20:02:03.330302300Z",
     "start_time": "2024-02-10T20:02:03.292204300Z"
    },
    "collapsed": false
   },
   "outputs": [],
   "source": [
    "listalau=[21,22,23,24,25,26]"
   ]
  },
  {
   "cell_type": "code",
   "execution_count": 2,
   "metadata": {
    "ExecuteTime": {
     "end_time": "2024-02-10T20:02:15.444463400Z",
     "start_time": "2024-02-10T20:02:15.416022300Z"
    },
    "collapsed": false
   },
   "outputs": [
    {
     "name": "stdout",
     "output_type": "stream",
     "text": [
      "[21, 22, 23, 24, 25, 26]\n"
     ]
    }
   ],
   "source": [
    "print(listalau)"
   ]
  },
  {
   "cell_type": "code",
   "execution_count": 35,
   "metadata": {
    "ExecuteTime": {
     "end_time": "2024-02-10T20:01:10.397624100Z",
     "start_time": "2024-02-10T20:01:10.374644400Z"
    },
    "collapsed": false
   },
   "outputs": [],
   "source": [
    "listalau.remove(23)"
   ]
  },
  {
   "cell_type": "code",
   "execution_count": 36,
   "metadata": {
    "ExecuteTime": {
     "end_time": "2024-02-10T20:01:12.724418600Z",
     "start_time": "2024-02-10T20:01:12.704932500Z"
    },
    "collapsed": false
   },
   "outputs": [
    {
     "name": "stdout",
     "output_type": "stream",
     "text": [
      "[21, 22, 24, 25, 26]\n"
     ]
    }
   ],
   "source": [
    "print(listalau)"
   ]
  },
  {
   "cell_type": "code",
   "execution_count": 3,
   "metadata": {
    "ExecuteTime": {
     "end_time": "2024-02-10T20:02:43.831612400Z",
     "start_time": "2024-02-10T20:02:43.805131Z"
    },
    "collapsed": false
   },
   "outputs": [
    {
     "data": {
      "text/plain": [
       "26"
      ]
     },
     "execution_count": 3,
     "metadata": {},
     "output_type": "execute_result"
    }
   ],
   "source": [
    "listalau.pop()"
   ]
  },
  {
   "cell_type": "code",
   "execution_count": 4,
   "metadata": {
    "ExecuteTime": {
     "end_time": "2024-02-10T20:02:46.107318100Z",
     "start_time": "2024-02-10T20:02:46.057860100Z"
    },
    "collapsed": false
   },
   "outputs": [
    {
     "name": "stdout",
     "output_type": "stream",
     "text": [
      "[21, 22, 23, 24, 25]\n"
     ]
    }
   ],
   "source": [
    "print(listalau)"
   ]
  },
  {
   "cell_type": "code",
   "execution_count": 6,
   "metadata": {
    "ExecuteTime": {
     "end_time": "2024-02-10T20:03:15.395176700Z",
     "start_time": "2024-02-10T20:03:15.374194500Z"
    },
    "collapsed": false
   },
   "outputs": [],
   "source": [
    "listalau.clear()"
   ]
  },
  {
   "cell_type": "code",
   "execution_count": 7,
   "metadata": {
    "ExecuteTime": {
     "end_time": "2024-02-10T20:03:17.224600600Z",
     "start_time": "2024-02-10T20:03:17.198623700Z"
    },
    "collapsed": false
   },
   "outputs": [
    {
     "name": "stdout",
     "output_type": "stream",
     "text": [
      "[]\n"
     ]
    }
   ],
   "source": [
    "print(listalau)"
   ]
  },
  {
   "cell_type": "markdown",
   "metadata": {
    "collapsed": false
   },
   "source": [
    "# Ejercicios de tuplas"
   ]
  },
  {
   "cell_type": "code",
   "execution_count": 12,
   "metadata": {
    "ExecuteTime": {
     "end_time": "2024-02-10T22:57:17.711451700Z",
     "start_time": "2024-02-10T22:57:17.689055900Z"
    },
    "collapsed": false
   },
   "outputs": [
    {
     "name": "stdout",
     "output_type": "stream",
     "text": [
      "100\n"
     ]
    }
   ],
   "source": [
    "# 1. Acceder al primer elemento de una tupla\n",
    "#Descripción: Dada una tupla, obtén el primer elemento.\n",
    "tupla1=(100,200,300,400,500)\n",
    "print(tupla1[0])"
   ]
  },
  {
   "cell_type": "code",
   "execution_count": null,
   "metadata": {
    "collapsed": false
   },
   "outputs": [],
   "source": [
    "# 2.Acceder al último elemento de una tupla\n",
    "#Descripción: Dada una tupla, obtén el último elemento."
   ]
  },
  {
   "cell_type": "code",
   "execution_count": 14,
   "metadata": {
    "ExecuteTime": {
     "end_time": "2024-02-10T22:57:24.909195500Z",
     "start_time": "2024-02-10T22:57:24.885392300Z"
    },
    "collapsed": false
   },
   "outputs": [
    {
     "name": "stdout",
     "output_type": "stream",
     "text": [
      "200\n"
     ]
    }
   ],
   "source": [
    "print(tupla1[1])"
   ]
  },
  {
   "cell_type": "code",
   "execution_count": null,
   "metadata": {
    "collapsed": false
   },
   "outputs": [],
   "source": [
    "# 3.Obtener la longitud de una tupla\n",
    "#Descripción: Dada una tupla, obtén la cantidad de elementos que contiene."
   ]
  },
  {
   "cell_type": "code",
   "execution_count": 15,
   "metadata": {
    "ExecuteTime": {
     "end_time": "2024-02-10T23:00:47.305592Z",
     "start_time": "2024-02-10T23:00:47.274930900Z"
    },
    "collapsed": false
   },
   "outputs": [
    {
     "name": "stdout",
     "output_type": "stream",
     "text": [
      "5\n"
     ]
    }
   ],
   "source": [
    "print(len(tupla1))"
   ]
  },
  {
   "cell_type": "code",
   "execution_count": null,
   "metadata": {
    "collapsed": false
   },
   "outputs": [],
   "source": [
    "#4.Concatenar dos tuplas\n",
    "#Descripción: Dadas dos tuplas, crea una nueva tupla que contenga todos los elementos de ambas tuplas."
   ]
  },
  {
   "cell_type": "code",
   "execution_count": 16,
   "metadata": {
    "ExecuteTime": {
     "end_time": "2024-02-10T23:01:11.306335400Z",
     "start_time": "2024-02-10T23:01:11.265964600Z"
    },
    "collapsed": false
   },
   "outputs": [],
   "source": [
    "tupla2=1000,2000,3000,4000,5000"
   ]
  },
  {
   "cell_type": "code",
   "execution_count": 18,
   "metadata": {
    "ExecuteTime": {
     "end_time": "2024-02-10T23:03:10.646254800Z",
     "start_time": "2024-02-10T23:03:10.627276900Z"
    },
    "collapsed": false
   },
   "outputs": [
    {
     "name": "stdout",
     "output_type": "stream",
     "text": [
      "(1000, 2000, 3000, 4000, 5000, 100, 200, 300, 400, 500)\n"
     ]
    }
   ],
   "source": [
    "tupla3=tupla2+tupla1\n",
    "print(tupla3)"
   ]
  },
  {
   "cell_type": "code",
   "execution_count": null,
   "metadata": {
    "collapsed": false
   },
   "outputs": [],
   "source": [
    "#5.Encontrar el índice de un elemento en una tupla\n",
    "#Descripción: Dada una tupla y un valor objetivo, encuentra el índice del primer elemento que coincida con el valor objetivo."
   ]
  },
  {
   "cell_type": "code",
   "execution_count": 19,
   "metadata": {
    "ExecuteTime": {
     "end_time": "2024-02-10T23:04:43.863703500Z",
     "start_time": "2024-02-10T23:04:43.842593700Z"
    },
    "collapsed": false
   },
   "outputs": [
    {
     "data": {
      "text/plain": [
       "4"
      ]
     },
     "execution_count": 19,
     "metadata": {},
     "output_type": "execute_result"
    }
   ],
   "source": [
    "#vamos a buscar el numero 5000\n",
    "tupla3.index(5000)"
   ]
  },
  {
   "cell_type": "code",
   "execution_count": null,
   "metadata": {
    "collapsed": false
   },
   "outputs": [],
   "source": [
    "# 6.Contar ocurrencias de un elemento en una tupla\n",
    "#Descripción: Dada una tupla y un valor objetivo, cuenta cuántas veces aparece el valor objetivo en la tupla."
   ]
  },
  {
   "cell_type": "code",
   "execution_count": 21,
   "metadata": {
    "ExecuteTime": {
     "end_time": "2024-02-10T23:07:00.414067900Z",
     "start_time": "2024-02-10T23:07:00.390510100Z"
    },
    "collapsed": false
   },
   "outputs": [
    {
     "data": {
      "text/plain": [
       "1"
      ]
     },
     "execution_count": 21,
     "metadata": {},
     "output_type": "execute_result"
    }
   ],
   "source": [
    "tupla3.count(5000)"
   ]
  },
  {
   "cell_type": "code",
   "execution_count": null,
   "metadata": {
    "collapsed": false
   },
   "outputs": [],
   "source": [
    "#7. Obtener una subtuple de una tupla\n",
    "#Descripción: Dada una tupla, crea una nueva tupla que contenga los elementos desde el índice 1 hasta el índice 3 (sin incluirlo)."
   ]
  },
  {
   "cell_type": "code",
   "execution_count": 22,
   "metadata": {
    "ExecuteTime": {
     "end_time": "2024-02-10T23:10:40.155232600Z",
     "start_time": "2024-02-10T23:10:40.122171300Z"
    },
    "collapsed": false
   },
   "outputs": [
    {
     "data": {
      "text/plain": [
       "(2000, 3000)"
      ]
     },
     "execution_count": 22,
     "metadata": {},
     "output_type": "execute_result"
    }
   ],
   "source": [
    "tupla3[1:3]"
   ]
  },
  {
   "cell_type": "code",
   "execution_count": null,
   "metadata": {
    "collapsed": false
   },
   "outputs": [],
   "source": [
    "#8. Invertir una tupla\n",
    "#Descripción: Dada una tupla, inviértela en orden."
   ]
  },
  {
   "cell_type": "code",
   "execution_count": 24,
   "metadata": {
    "ExecuteTime": {
     "end_time": "2024-02-10T23:13:31.398470500Z",
     "start_time": "2024-02-10T23:13:31.372052100Z"
    },
    "collapsed": false
   },
   "outputs": [
    {
     "data": {
      "text/plain": [
       "(500, 400, 300, 200, 100, 5000, 4000, 3000, 2000, 1000)"
      ]
     },
     "execution_count": 24,
     "metadata": {},
     "output_type": "execute_result"
    }
   ],
   "source": [
    "tupla3[::-1]"
   ]
  },
  {
   "cell_type": "markdown",
   "metadata": {
    "collapsed": false
   },
   "source": []
  },
  {
   "cell_type": "markdown",
   "metadata": {
    "collapsed": false
   },
   "source": [
    "# Ejercicios Apuntes:"
   ]
  },
  {
   "cell_type": "markdown",
   "metadata": {
    "collapsed": false
   },
   "source": [
    "1. Haz una lista llamada `colores` donde almacenemos los primeros 6 colores que te vengan a la mente."
   ]
  },
  {
   "cell_type": "code",
   "execution_count": 28,
   "metadata": {
    "ExecuteTime": {
     "end_time": "2024-02-10T23:36:13.012928200Z",
     "start_time": "2024-02-10T23:36:12.980456700Z"
    },
    "collapsed": false
   },
   "outputs": [],
   "source": [
    "colores=[\"red\",\"green\",\"blue\",\"rosa\",\"negro\",\"blanco\"]"
   ]
  },
  {
   "cell_type": "markdown",
   "metadata": {
    "collapsed": false
   },
   "source": [
    "2. Haz una lista llamada `buses` de las líneas de autobuses que pasan por tu casa."
   ]
  },
  {
   "cell_type": "code",
   "execution_count": 29,
   "metadata": {
    "ExecuteTime": {
     "end_time": "2024-02-10T23:36:16.639960600Z",
     "start_time": "2024-02-10T23:36:16.595757600Z"
    },
    "collapsed": false
   },
   "outputs": [],
   "source": [
    "buses=[\"1\",\"2\",\"3\",\"461\",\"471\"]"
   ]
  },
  {
   "cell_type": "markdown",
   "metadata": {
    "collapsed": false
   },
   "source": [
    "3. Apunta la previsión de temperaturas máximas para todos los días de esta semana en `temperaturas`."
   ]
  },
  {
   "cell_type": "code",
   "execution_count": 30,
   "metadata": {
    "ExecuteTime": {
     "end_time": "2024-02-10T23:36:18.660598400Z",
     "start_time": "2024-02-10T23:36:18.639760200Z"
    },
    "collapsed": false
   },
   "outputs": [],
   "source": [
    "temperaturas=[\"15\",\"15\",\"18\",\"17\",\"18\",\"19\"]"
   ]
  },
  {
   "cell_type": "markdown",
   "metadata": {
    "collapsed": false
   },
   "source": [
    "- Convertir a listas"
   ]
  },
  {
   "cell_type": "markdown",
   "metadata": {
    "collapsed": false
   },
   "source": [
    "  4. Convierte tu(s) nombre(s) a una lista `nombres` de caracteres."
   ]
  },
  {
   "cell_type": "code",
   "execution_count": 32,
   "metadata": {
    "ExecuteTime": {
     "end_time": "2024-02-10T23:38:17.698388700Z",
     "start_time": "2024-02-10T23:38:17.670067100Z"
    },
    "collapsed": false
   },
   "outputs": [],
   "source": [
    "nombres=[\"Laura\",\"Genesis\"]"
   ]
  },
  {
   "cell_type": "markdown",
   "metadata": {
    "collapsed": false
   },
   "source": [
    "  5. Convierte tu(s) apellido(s) a una lista `apellidos` de caracteres."
   ]
  },
  {
   "cell_type": "code",
   "execution_count": 5,
   "metadata": {
    "ExecuteTime": {
     "end_time": "2024-02-10T23:46:53.813638300Z",
     "start_time": "2024-02-10T23:46:53.788045100Z"
    },
    "collapsed": false
   },
   "outputs": [],
   "source": [
    "apellidos=[\"Barboza\",\"Peredo\"]"
   ]
  },
  {
   "cell_type": "markdown",
   "metadata": {
    "collapsed": false
   },
   "source": [
    "- Usar `len()`, `min()`, y `max()`"
   ]
  },
  {
   "cell_type": "markdown",
   "metadata": {
    "collapsed": false
   },
   "source": [
    "6. ¿Cuántos búses pasan por tu casa?"
   ]
  },
  {
   "cell_type": "code",
   "execution_count": 31,
   "metadata": {
    "ExecuteTime": {
     "end_time": "2024-02-10T23:37:53.662403800Z",
     "start_time": "2024-02-10T23:37:53.601336Z"
    },
    "collapsed": false
   },
   "outputs": [
    {
     "name": "stdout",
     "output_type": "stream",
     "text": [
      "5\n"
     ]
    }
   ],
   "source": [
    "print(len(buses))"
   ]
  },
  {
   "cell_type": "markdown",
   "metadata": {
    "collapsed": false
   },
   "source": [
    " 7. ¿Cuántos caracteres hay en tu apellido(s) (inluyendo los espacios)?"
   ]
  },
  {
   "cell_type": "code",
   "execution_count": 4,
   "metadata": {
    "ExecuteTime": {
     "end_time": "2024-02-10T23:46:50.970023400Z",
     "start_time": "2024-02-10T23:46:50.896308400Z"
    },
    "collapsed": false
   },
   "outputs": [
    {
     "data": {
      "text/plain": [
       "['Barboza', 'Peredo']"
      ]
     },
     "execution_count": 4,
     "metadata": {},
     "output_type": "execute_result"
    }
   ],
   "source": [
    "list(apellidos)"
   ]
  },
  {
   "cell_type": "code",
   "execution_count": 6,
   "metadata": {
    "ExecuteTime": {
     "end_time": "2024-02-10T23:47:03.898809Z",
     "start_time": "2024-02-10T23:47:03.826883200Z"
    },
    "collapsed": false
   },
   "outputs": [
    {
     "name": "stdout",
     "output_type": "stream",
     "text": [
      "BarbozaPeredo\n"
     ]
    }
   ],
   "source": [
    "caracteres_string= \"\".join(apellidos)\n",
    "print(caracteres_string)"
   ]
  },
  {
   "cell_type": "code",
   "execution_count": 9,
   "metadata": {
    "ExecuteTime": {
     "end_time": "2024-02-10T23:49:52.828678700Z",
     "start_time": "2024-02-10T23:49:52.798370100Z"
    },
    "collapsed": false
   },
   "outputs": [
    {
     "data": {
      "text/plain": [
       "13"
      ]
     },
     "execution_count": 9,
     "metadata": {},
     "output_type": "execute_result"
    }
   ],
   "source": [
    "len(caracteres_string)"
   ]
  },
  {
   "cell_type": "code",
   "execution_count": 10,
   "metadata": {
    "ExecuteTime": {
     "end_time": "2024-02-10T23:51:15.389211300Z",
     "start_time": "2024-02-10T23:51:15.339402700Z"
    },
    "collapsed": false
   },
   "outputs": [
    {
     "data": {
      "text/plain": [
       "['B', 'a', 'r', 'b', 'o', 'z', 'a', 'P', 'e', 'r', 'e', 'd', 'o']"
      ]
     },
     "execution_count": 10,
     "metadata": {},
     "output_type": "execute_result"
    }
   ],
   "source": [
    "list(caracteres_string)"
   ]
  },
  {
   "cell_type": "code",
   "execution_count": 11,
   "metadata": {
    "ExecuteTime": {
     "end_time": "2024-02-10T23:51:36.160197400Z",
     "start_time": "2024-02-10T23:51:36.132717800Z"
    },
    "collapsed": false
   },
   "outputs": [
    {
     "data": {
      "text/plain": [
       "13"
      ]
     },
     "execution_count": 11,
     "metadata": {},
     "output_type": "execute_result"
    }
   ],
   "source": [
    "len(list(caracteres_string))"
   ]
  }
 ],
 "metadata": {
  "kernelspec": {
   "display_name": "base",
   "language": "python",
   "name": "python3"
  },
  "language_info": {
   "codemirror_mode": {
    "name": "ipython",
    "version": 3
   },
   "file_extension": ".py",
   "mimetype": "text/x-python",
   "name": "python",
   "nbconvert_exporter": "python",
   "pygments_lexer": "ipython3",
   "version": "3.9.7"
  }
 },
 "nbformat": 4,
 "nbformat_minor": 2
}
