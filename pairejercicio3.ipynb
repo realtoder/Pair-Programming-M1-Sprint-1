{
 "cells": [
  {
   "cell_type": "code",
   "execution_count": 1,
   "metadata": {},
   "outputs": [],
   "source": [
    "#Crear un diccionario vacío\n",
    "#Descripción: Crea un diccionario vacío sin ningún par clave-valor.\n",
    "diccionario={}"
   ]
  },
  {
   "cell_type": "code",
   "execution_count": null,
   "metadata": {},
   "outputs": [],
   "source": [
    "#Crear un diccionario con elementos\n",
    "#Descripción: Crea un diccionario con pares clave-valor predefinidos.\n",
    "#Definir el diccionario con las claves y valores que querais.\n",
    "#NOTA El diccionario debe tener al menos 5 pares de clave:valor."
   ]
  },
  {
   "cell_type": "code",
   "execution_count": 83,
   "metadata": {},
   "outputs": [],
   "source": [
    "ingles={\"casa\":\"house\",\"coche\":\"car\",\"botella\":\"bottle\",\"libro\":\"book\",\"cafe\":\"coffe\"}"
   ]
  },
  {
   "cell_type": "code",
   "execution_count": 84,
   "metadata": {},
   "outputs": [],
   "source": [
    "#Acceder al valor de una clave en un diccionario#\n",
    "#Descripción: Usando el diccionario creado en el paso anterior, \n",
    "#obtén el valor correspondiente a una clave específica que indique el usuario \n",
    "#(debereis usar la función input() para preguntar al usuario)."
   ]
  },
  {
   "cell_type": "code",
   "execution_count": 85,
   "metadata": {},
   "outputs": [],
   "source": [
    "pregunta=input(\"qué quieres buscar\")"
   ]
  },
  {
   "cell_type": "code",
   "execution_count": 86,
   "metadata": {},
   "outputs": [
    {
     "name": "stdout",
     "output_type": "stream",
     "text": [
      "coche\n"
     ]
    }
   ],
   "source": [
    "print(pregunta)"
   ]
  },
  {
   "cell_type": "code",
   "execution_count": 87,
   "metadata": {},
   "outputs": [
    {
     "data": {
      "text/plain": [
       "'car'"
      ]
     },
     "execution_count": 87,
     "metadata": {},
     "output_type": "execute_result"
    }
   ],
   "source": [
    "ingles.get(pregunta)"
   ]
  },
  {
   "cell_type": "code",
   "execution_count": 88,
   "metadata": {},
   "outputs": [
    {
     "name": "stdout",
     "output_type": "stream",
     "text": [
      "{'casa': 'house', 'coche': 'car', 'botella': 'bottle', 'libro': 'book', 'cafe': 'coffe', 'lapiz': 'pencil'}\n"
     ]
    }
   ],
   "source": [
    "#Agregar un nuevo par clave-valor a un diccionario\n",
    "#Descripción: Usando el diccionario creado en el ejercicio 2, agrega un nuevo par clave-valor.\n",
    "\n",
    "ingles.update({\"lapiz\":\"pencil\"})\n",
    "print(ingles)"
   ]
  },
  {
   "cell_type": "code",
   "execution_count": 89,
   "metadata": {},
   "outputs": [
    {
     "name": "stdout",
     "output_type": "stream",
     "text": [
      "{'casa': 'house', 'coche': 'car', 'botella': 'bottle', 'libro': 'book', 'cafe': 'coffee', 'lapiz': 'pencil'}\n"
     ]
    }
   ],
   "source": [
    "#Actualizar el valor de una clave en un diccionario\n",
    "#Descripción: Usando el diccionario creado en el ejercicio 2, actualiza el valor correspondiente a una clave existente. \n",
    "\n",
    "ingles[\"cafe\"]=\"coffee\"\n",
    "print(ingles)"
   ]
  },
  {
   "cell_type": "code",
   "execution_count": 90,
   "metadata": {},
   "outputs": [
    {
     "data": {
      "text/plain": [
       "'house'"
      ]
     },
     "execution_count": 90,
     "metadata": {},
     "output_type": "execute_result"
    }
   ],
   "source": [
    "#6Eliminar un par clave-valor de un diccionario\n",
    "#Descripción: Usando el diccionario creado en el ejercicio 2, \n",
    "#elimina un par clave-valor específico que indique el usuario (debereis usar la función input() para preguntar al usuario).\n",
    "\n",
    "eliminado = input(\"Qué quieres eliminar?\")\n",
    "\n",
    "ingles.pop(eliminado)"
   ]
  },
  {
   "cell_type": "code",
   "execution_count": 96,
   "metadata": {},
   "outputs": [
    {
     "name": "stdout",
     "output_type": "stream",
     "text": [
      "el diccionaro queda {'coche': 'car', 'botella': 'bottle', 'libro': 'book', 'cafe': 'coffee'}\n"
     ]
    }
   ],
   "source": [
    "print(\"el diccionaro queda\", ingles)"
   ]
  },
  {
   "cell_type": "code",
   "execution_count": 92,
   "metadata": {},
   "outputs": [
    {
     "data": {
      "text/plain": [
       "False"
      ]
     },
     "execution_count": 92,
     "metadata": {},
     "output_type": "execute_result"
    }
   ],
   "source": [
    "#7.Verificar si una clave está presente en un diccionario\n",
    "#Descripción: Usando el diccionario creado en el ejercicio 2, verifica si una clave específica está presente en él.\n",
    "# La clave a buscar debe ser pasada por el usuario, debereis usar un input().\n",
    "\n",
    "\"playa\" in ingles"
   ]
  },
  {
   "cell_type": "code",
   "execution_count": 44,
   "metadata": {},
   "outputs": [
    {
     "data": {
      "text/plain": [
       "dict_keys(['casa', 'botella', 'libro', 'cafe'])"
      ]
     },
     "execution_count": 44,
     "metadata": {},
     "output_type": "execute_result"
    }
   ],
   "source": [
    "#8.Obtener una lista de todas las claves de un diccionario\n",
    "#Descripción: Usando el diccionario creado en el ejercicio 2, obtén una lista con todas las claves que contiene.\n",
    "\n",
    "ingles.keys()"
   ]
  },
  {
   "cell_type": "code",
   "execution_count": 45,
   "metadata": {},
   "outputs": [
    {
     "data": {
      "text/plain": [
       "dict_values(['house', 'bottle', 'book', 'coffe'])"
      ]
     },
     "execution_count": 45,
     "metadata": {},
     "output_type": "execute_result"
    }
   ],
   "source": [
    "#9.Obtener una lista de todos los valores de un diccionario\n",
    "#Descripción: Usando el diccionario creado en el ejercicio 2, obtén una lista con todos los valores que contiene.\n",
    "ingles.values()"
   ]
  },
  {
   "cell_type": "code",
   "execution_count": 93,
   "metadata": {},
   "outputs": [
    {
     "name": "stdout",
     "output_type": "stream",
     "text": [
      "{'coche': 'car', 'botella': 'bottle', 'libro': 'book', 'cafe': 'coffee', 'lapiz': 'pencil', 'playa': ['no existe']}\n"
     ]
    }
   ],
   "source": [
    "#10.Utilizar el método setdefault() para establecer un valor predeterminado si la clave no existe\n",
    "#Descripción: Usando el diccionario creado en el ejercicio 2, obten el valor correspondiente a una clave. Si la clave no existe, establece un valor predeterminado y devuelve dicho valor.\n",
    "ingles.setdefault(\"playa\",[\"no existe\"])\n",
    "ingles.get(\"playa\")\n",
    "print(ingles)"
   ]
  },
  {
   "cell_type": "code",
   "execution_count": 94,
   "metadata": {},
   "outputs": [
    {
     "name": "stdout",
     "output_type": "stream",
     "text": [
      "{'coche': 'car', 'botella': 'bottle', 'libro': 'book', 'cafe': 'coffee', 'lapiz': 'pencil'}\n"
     ]
    }
   ],
   "source": [
    "#11.Manipulación de un diccionario utilizando pop() y popitem()\n",
    "#Descripción: Usando el diccionario creado en el ejercicio 2, realiza operaciones de eliminación utilizando pop() y popitem(), y observa cómo afectan al diccionario.\n",
    "ingles.pop(\"playa\")\n",
    "print(ingles)"
   ]
  },
  {
   "cell_type": "code",
   "execution_count": 95,
   "metadata": {},
   "outputs": [
    {
     "name": "stdout",
     "output_type": "stream",
     "text": [
      "{'coche': 'car', 'botella': 'bottle', 'libro': 'book', 'cafe': 'coffee'}\n"
     ]
    }
   ],
   "source": [
    "ingles.popitem()\n",
    "print(ingles)"
   ]
  },
  {
   "cell_type": "code",
   "execution_count": 97,
   "metadata": {},
   "outputs": [],
   "source": [
    "#set\n",
    "#Crear un conjunto vacío\n",
    "#Descripción: Crea un conjunto vacío sin ningún elemento.\n",
    "\n",
    "grupovacio={}\n"
   ]
  },
  {
   "cell_type": "code",
   "execution_count": 99,
   "metadata": {},
   "outputs": [],
   "source": [
    "#2.Crear un conjunto con elementos\n",
    "#Descripción: Crea un conjunto con elementos predefinidos.\n",
    "\n",
    "compra={\"tomates\", \"leche\", \"aguacate\" ,\"pan\", \"pimienta\"}\n"
   ]
  },
  {
   "cell_type": "code",
   "execution_count": 104,
   "metadata": {},
   "outputs": [
    {
     "name": "stdout",
     "output_type": "stream",
     "text": [
      "{'pan', 'aceite', 'cereales', 'tomates', 'leche', 'agua', 'aguacate', 'pimienta'}\n"
     ]
    }
   ],
   "source": [
    "#Agregar elementos a un conjunto\n",
    "#Descripción: Usando el set creado en el ejercicio 2, agrega nuevos elementos. Debereis agregar por separado:\n",
    "#Un elemento solo\n",
    "#Un par de elementos a la vez.\n",
    "\n",
    "compra.add(\"aceite\")\n",
    "print(compra)\n",
    "#actualizacion\n",
    "#actualización= \"[agua\",\"cereales\"]\n",
    "compra.update([\"agua\", \"cereales\"])"
   ]
  },
  {
   "cell_type": "code",
   "execution_count": 105,
   "metadata": {},
   "outputs": [
    {
     "ename": "TypeError",
     "evalue": "set.pop() takes no arguments (1 given)",
     "output_type": "error",
     "traceback": [
      "\u001b[0;31m---------------------------------------------------------------------------\u001b[0m",
      "\u001b[0;31mTypeError\u001b[0m                                 Traceback (most recent call last)",
      "\u001b[0;32m/tmp/ipykernel_10409/1709668744.py\u001b[0m in \u001b[0;36m<module>\u001b[0;34m\u001b[0m\n\u001b[1;32m      2\u001b[0m \u001b[0;31m#Descripción: Usando el set creado en el ejercicio 2, elimina un elemento especificado por el usuario.\u001b[0m\u001b[0;34m\u001b[0m\u001b[0;34m\u001b[0m\u001b[0m\n\u001b[1;32m      3\u001b[0m \u001b[0;34m\u001b[0m\u001b[0m\n\u001b[0;32m----> 4\u001b[0;31m \u001b[0mcompra\u001b[0m\u001b[0;34m.\u001b[0m\u001b[0mpop\u001b[0m\u001b[0;34m(\u001b[0m\u001b[0;34m\"cereales\"\u001b[0m\u001b[0;34m)\u001b[0m\u001b[0;34m\u001b[0m\u001b[0;34m\u001b[0m\u001b[0m\n\u001b[0m",
      "\u001b[0;31mTypeError\u001b[0m: set.pop() takes no arguments (1 given)"
     ]
    }
   ],
   "source": [
    "#Eliminar un elemento de un conjunto\n",
    "#Descripción: Usando el set creado en el ejercicio 2, elimina un elemento especificado por el usuario.\n",
    "\n",
    "compra.pop(\"cereales\")"
   ]
  },
  {
   "cell_type": "code",
   "execution_count": null,
   "metadata": {},
   "outputs": [],
   "source": []
  },
  {
   "cell_type": "code",
   "execution_count": null,
   "metadata": {},
   "outputs": [],
   "source": []
  }
 ],
 "metadata": {
  "kernelspec": {
   "display_name": "base",
   "language": "python",
   "name": "python3"
  },
  "language_info": {
   "codemirror_mode": {
    "name": "ipython",
    "version": 3
   },
   "file_extension": ".py",
   "mimetype": "text/x-python",
   "name": "python",
   "nbconvert_exporter": "python",
   "pygments_lexer": "ipython3",
   "version": "3.9.7"
  }
 },
 "nbformat": 4,
 "nbformat_minor": 2
}
