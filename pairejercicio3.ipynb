{
 "cells": [
  {
   "cell_type": "markdown",
   "metadata": {},
   "source": [
    "# Pair programming Diccionarios y Sets"
   ]
  },
  {
   "cell_type": "code",
   "execution_count": 1,
   "metadata": {
    "ExecuteTime": {
     "end_time": "2024-02-11T00:06:38.037135800Z",
     "start_time": "2024-02-11T00:06:38.024278500Z"
    }
   },
   "outputs": [],
   "source": [
    "#1.Crear un diccionario vacío\n",
    "#Descripción: Crea un diccionario vacío sin ningún par clave-valor.\n",
    "diccionario={}"
   ]
  },
  {
   "cell_type": "code",
   "execution_count": null,
   "metadata": {},
   "outputs": [],
   "source": [
    "#2.Crear un diccionario con elementos\n",
    "#Descripción: Crea un diccionario con pares clave-valor predefinidos.\n",
    "#Definir el diccionario con las claves y valores que querais.\n",
    "#NOTA El diccionario debe tener al menos 5 pares de clave:valor."
   ]
  },
  {
   "cell_type": "code",
   "execution_count": 2,
   "metadata": {
    "ExecuteTime": {
     "end_time": "2024-02-11T00:12:46.293798500Z",
     "start_time": "2024-02-11T00:12:46.286416600Z"
    }
   },
   "outputs": [],
   "source": [
    "ingles={\"casa\":\"house\",\"coche\":\"car\",\"botella\":\"bottle\",\"libro\":\"book\",\"cafe\":\"coffe\"}"
   ]
  },
  {
   "cell_type": "code",
   "execution_count": 84,
   "metadata": {},
   "outputs": [],
   "source": [
    "#3.Acceder al valor de una clave en un diccionario#\n",
    "#Descripción: Usando el diccionario creado en el paso anterior, \n",
    "#obtén el valor correspondiente a una clave específica que indique el usuario \n",
    "#(debereis usar la función input() para preguntar al usuario)."
   ]
  },
  {
   "cell_type": "code",
   "execution_count": 9,
   "metadata": {
    "ExecuteTime": {
     "end_time": "2024-02-11T00:14:00.430664100Z",
     "start_time": "2024-02-11T00:13:55.242326800Z"
    }
   },
   "outputs": [
    {
     "name": "stdout",
     "output_type": "stream",
     "text": [
      "botella\n"
     ]
    }
   ],
   "source": [
    "pregunta=input(\"qué quieres buscar\")\n",
    "print(pregunta)"
   ]
  },
  {
   "cell_type": "code",
   "outputs": [
    {
     "data": {
      "text/plain": "'bottle'"
     },
     "execution_count": 10,
     "metadata": {},
     "output_type": "execute_result"
    }
   ],
   "source": [
    "ingles.get(pregunta)"
   ],
   "metadata": {
    "collapsed": false,
    "ExecuteTime": {
     "end_time": "2024-02-11T00:14:02.254130900Z",
     "start_time": "2024-02-11T00:14:02.243008700Z"
    }
   },
   "execution_count": 10
  },
  {
   "cell_type": "code",
   "execution_count": 88,
   "metadata": {},
   "outputs": [
    {
     "name": "stdout",
     "output_type": "stream",
     "text": [
      "{'casa': 'house', 'coche': 'car', 'botella': 'bottle', 'libro': 'book', 'cafe': 'coffe', 'lapiz': 'pencil'}\n"
     ]
    }
   ],
   "source": [
    "#4.Agregar un nuevo par clave-valor a un diccionario\n",
    "#Descripción: Usando el diccionario creado en el ejercicio 2, agrega un nuevo par clave-valor.\n",
    "\n",
    "ingles.update({\"lapiz\":\"pencil\"})\n",
    "print(ingles)"
   ]
  },
  {
   "cell_type": "code",
   "outputs": [
    {
     "name": "stdout",
     "output_type": "stream",
     "text": [
      "{'casa': 'house', 'coche': 'car', 'botella': 'bottle', 'libro': 'book', 'cafe': 'coffe', 'raton': 'mouse'}\n"
     ]
    }
   ],
   "source": [
    "ingles.update({\"raton\":\"mouse\"})\n",
    "print(ingles)"
   ],
   "metadata": {
    "collapsed": false,
    "ExecuteTime": {
     "end_time": "2024-02-11T00:15:50.900926200Z",
     "start_time": "2024-02-11T00:15:50.891583600Z"
    }
   },
   "execution_count": 11
  },
  {
   "cell_type": "code",
   "execution_count": 89,
   "metadata": {},
   "outputs": [
    {
     "name": "stdout",
     "output_type": "stream",
     "text": [
      "{'casa': 'house', 'coche': 'car', 'botella': 'bottle', 'libro': 'book', 'cafe': 'coffee', 'lapiz': 'pencil'}\n"
     ]
    }
   ],
   "source": [
    "#5.Actualizar el valor de una clave en un diccionario\n",
    "#Descripción: Usando el diccionario creado en el ejercicio 2, actualiza el valor correspondiente a una clave existente. \n",
    "\n",
    "ingles[\"cafe\"]=\"coffee\"\n",
    "print(ingles)"
   ]
  },
  {
   "cell_type": "code",
   "execution_count": 12,
   "metadata": {
    "ExecuteTime": {
     "end_time": "2024-02-11T00:16:31.618575Z",
     "start_time": "2024-02-11T00:16:22.836761200Z"
    }
   },
   "outputs": [
    {
     "data": {
      "text/plain": "'mouse'"
     },
     "execution_count": 12,
     "metadata": {},
     "output_type": "execute_result"
    }
   ],
   "source": [
    "#6.Eliminar un par clave-valor de un diccionario\n",
    "#Descripción: Usando el diccionario creado en el ejercicio 2, \n",
    "#elimina un par clave-valor específico que indique el usuario (debereis usar la función input() para preguntar al usuario).\n",
    "\n",
    "eliminado = input(\"Qué quieres eliminar?\")\n",
    "\n",
    "ingles.pop(eliminado)"
   ]
  },
  {
   "cell_type": "code",
   "execution_count": 13,
   "metadata": {
    "ExecuteTime": {
     "end_time": "2024-02-11T00:16:42.049625Z",
     "start_time": "2024-02-11T00:16:42.039097500Z"
    }
   },
   "outputs": [
    {
     "name": "stdout",
     "output_type": "stream",
     "text": [
      "el diccionaro queda {'casa': 'house', 'coche': 'car', 'botella': 'bottle', 'libro': 'book', 'cafe': 'coffe'}\n"
     ]
    }
   ],
   "source": [
    "print(\"el diccionaro queda\", ingles)"
   ]
  },
  {
   "cell_type": "code",
   "execution_count": 15,
   "metadata": {
    "ExecuteTime": {
     "end_time": "2024-02-11T00:19:01.135046800Z",
     "start_time": "2024-02-11T00:18:58.581134500Z"
    }
   },
   "outputs": [
    {
     "data": {
      "text/plain": "False"
     },
     "execution_count": 15,
     "metadata": {},
     "output_type": "execute_result"
    }
   ],
   "source": [
    "#7.Verificar si una clave está presente en un diccionario\n",
    "#Descripción: Usando el diccionario creado en el ejercicio 2, verifica si una clave específica está presente en él.\n",
    "# La clave a buscar debe ser pasada por el usuario, debereis usar un input().\n",
    "\n",
    "buscar=input(\"inserta la palabra que quieras buscar\")\n",
    "buscar in ingles"
   ]
  },
  {
   "cell_type": "code",
   "execution_count": 16,
   "metadata": {
    "ExecuteTime": {
     "end_time": "2024-02-11T00:20:15.427824Z",
     "start_time": "2024-02-11T00:20:15.420640300Z"
    }
   },
   "outputs": [
    {
     "data": {
      "text/plain": "dict_keys(['casa', 'coche', 'botella', 'libro', 'cafe'])"
     },
     "execution_count": 16,
     "metadata": {},
     "output_type": "execute_result"
    }
   ],
   "source": [
    "#8.Obtener una lista de todas las claves de un diccionario\n",
    "#Descripción: Usando el diccionario creado en el ejercicio 2, obtén una lista con todas las claves que contiene.\n",
    "\n",
    "ingles.keys()"
   ]
  },
  {
   "cell_type": "code",
   "execution_count": 17,
   "metadata": {
    "ExecuteTime": {
     "end_time": "2024-02-11T00:20:21.769666200Z",
     "start_time": "2024-02-11T00:20:21.758310200Z"
    }
   },
   "outputs": [
    {
     "data": {
      "text/plain": "dict_values(['house', 'car', 'bottle', 'book', 'coffe'])"
     },
     "execution_count": 17,
     "metadata": {},
     "output_type": "execute_result"
    }
   ],
   "source": [
    "#9.Obtener una lista de todos los valores de un diccionario\n",
    "#Descripción: Usando el diccionario creado en el ejercicio 2, obtén una lista con todos los valores que contiene.\n",
    "ingles.values()"
   ]
  },
  {
   "cell_type": "code",
   "execution_count": 93,
   "metadata": {},
   "outputs": [
    {
     "name": "stdout",
     "output_type": "stream",
     "text": [
      "{'coche': 'car', 'botella': 'bottle', 'libro': 'book', 'cafe': 'coffee', 'lapiz': 'pencil', 'playa': ['no existe']}\n"
     ]
    }
   ],
   "source": [
    "#10.Utilizar el método setdefault() para establecer un valor predeterminado si la clave no existe\n",
    "#Descripción: Usando el diccionario creado en el ejercicio 2, obten el valor correspondiente a una clave. Si la clave no existe, establece un valor predeterminado y devuelve dicho valor.\n",
    "ingles.setdefault(\"playa\",[\"no existe\"])\n",
    "ingles.get(\"playa\")\n",
    "print(ingles)"
   ]
  },
  {
   "cell_type": "code",
   "outputs": [
    {
     "name": "stdout",
     "output_type": "stream",
     "text": [
      "{'casa': 'house', 'coche': 'car', 'botella': 'bottle', 'libro': 'book', 'cafe': 'coffe', 'telefono': 'phone', 'lampara': 'no esta'}\n"
     ]
    }
   ],
   "source": [
    "ingles.setdefault(\"lampara\",\"no esta\")\n",
    "print(ingles)"
   ],
   "metadata": {
    "collapsed": false,
    "ExecuteTime": {
     "end_time": "2024-02-11T00:32:26.108497300Z",
     "start_time": "2024-02-11T00:32:26.079493200Z"
    }
   },
   "execution_count": 29
  },
  {
   "cell_type": "code",
   "outputs": [
    {
     "name": "stdout",
     "output_type": "stream",
     "text": [
      "{'casa': 'house', 'coche': 'car', 'botella': 'bottle', 'libro': 'book', 'cafe': 'coffe', 'telefono': 'phone', 'lampara': 'no esta'}\n"
     ]
    }
   ],
   "source": [
    "ingles.setdefault(\"telefono\",\"phone\")\n",
    "print(ingles)"
   ],
   "metadata": {
    "collapsed": false,
    "ExecuteTime": {
     "end_time": "2024-02-11T00:32:29.790097400Z",
     "start_time": "2024-02-11T00:32:29.776521Z"
    }
   },
   "execution_count": 30
  },
  {
   "cell_type": "code",
   "outputs": [
    {
     "name": "stdout",
     "output_type": "stream",
     "text": [
      "phone\n"
     ]
    }
   ],
   "source": [
    "print(ingles.get(\"telefono\"))"
   ],
   "metadata": {
    "collapsed": false,
    "ExecuteTime": {
     "end_time": "2024-02-11T00:32:35.604799900Z",
     "start_time": "2024-02-11T00:32:35.591700300Z"
    }
   },
   "execution_count": 31
  },
  {
   "cell_type": "code",
   "outputs": [
    {
     "name": "stdout",
     "output_type": "stream",
     "text": [
      "None\n"
     ]
    }
   ],
   "source": [
    "print(ingles.get(\"playa\"))"
   ],
   "metadata": {
    "collapsed": false,
    "ExecuteTime": {
     "end_time": "2024-02-11T00:32:38.113769700Z",
     "start_time": "2024-02-11T00:32:38.101124400Z"
    }
   },
   "execution_count": 32
  },
  {
   "cell_type": "code",
   "outputs": [
    {
     "name": "stdout",
     "output_type": "stream",
     "text": [
      "{'casa': 'house', 'coche': 'car', 'botella': 'bottle', 'libro': 'book', 'cafe': 'coffe', 'telefono': 'phone', 'lampara': 'no esta'}\n"
     ]
    }
   ],
   "source": [
    "print(ingles)"
   ],
   "metadata": {
    "collapsed": false,
    "ExecuteTime": {
     "end_time": "2024-02-11T00:32:41.381516100Z",
     "start_time": "2024-02-11T00:32:41.366285200Z"
    }
   },
   "execution_count": 33
  },
  {
   "cell_type": "code",
   "execution_count": 34,
   "metadata": {
    "ExecuteTime": {
     "end_time": "2024-02-11T00:32:44.726816500Z",
     "start_time": "2024-02-11T00:32:44.714978500Z"
    }
   },
   "outputs": [
    {
     "name": "stdout",
     "output_type": "stream",
     "text": [
      "{'casa': 'house', 'coche': 'car', 'botella': 'bottle', 'libro': 'book', 'cafe': 'coffe', 'telefono': 'phone'}\n"
     ]
    }
   ],
   "source": [
    "#11.Manipulación de un diccionario utilizando pop() y popitem()\n",
    "#Descripción: Usando el diccionario creado en el ejercicio 2, realiza operaciones de eliminación utilizando pop() y popitem(), y observa cómo afectan al diccionario.\n",
    "ingles.pop(\"lampara\")\n",
    "print(ingles)"
   ]
  },
  {
   "cell_type": "code",
   "execution_count": 35,
   "metadata": {
    "ExecuteTime": {
     "end_time": "2024-02-11T00:32:51.592484900Z",
     "start_time": "2024-02-11T00:32:51.580497300Z"
    }
   },
   "outputs": [
    {
     "name": "stdout",
     "output_type": "stream",
     "text": [
      "{'casa': 'house', 'coche': 'car', 'botella': 'bottle', 'libro': 'book', 'cafe': 'coffe'}\n"
     ]
    }
   ],
   "source": [
    "ingles.popitem()\n",
    "print(ingles)"
   ]
  },
  {
   "cell_type": "markdown",
   "source": [
    "# Ejercicios Set"
   ],
   "metadata": {
    "collapsed": false
   }
  },
  {
   "cell_type": "code",
   "execution_count": 37,
   "metadata": {
    "ExecuteTime": {
     "end_time": "2024-02-11T00:35:05.891281100Z",
     "start_time": "2024-02-11T00:35:05.876764800Z"
    }
   },
   "outputs": [],
   "source": [
    "#1.Crear un conjunto vacío\n",
    "#Descripción: Crea un conjunto vacío sin ningún elemento.\n",
    "\n",
    "grupovacio={}\n"
   ]
  },
  {
   "cell_type": "code",
   "execution_count": 19,
   "metadata": {
    "ExecuteTime": {
     "end_time": "2024-02-11T00:57:29.181391900Z",
     "start_time": "2024-02-11T00:57:29.168922800Z"
    }
   },
   "outputs": [],
   "source": [
    "#2.Crear un conjunto con elementos\n",
    "#Descripción: Crea un conjunto con elementos predefinidos.\n",
    "\n",
    "compra={\"tomates\", \"leche\", \"aguacate\" ,\"pan\", \"pimienta\",\"jamon\"}\n"
   ]
  },
  {
   "cell_type": "code",
   "execution_count": 2,
   "metadata": {
    "ExecuteTime": {
     "end_time": "2024-02-11T00:40:32.828811600Z",
     "start_time": "2024-02-11T00:40:32.824807700Z"
    }
   },
   "outputs": [
    {
     "name": "stdout",
     "output_type": "stream",
     "text": [
      "{'tomates', 'aguacate', 'jamon', 'leche', 'pimienta', 'pan', 'aceite'}\n"
     ]
    }
   ],
   "source": [
    "#3.Agregar elementos a un conjunto\n",
    "#Descripción: Usando el set creado en el ejercicio 2, agrega nuevos elementos. Debereis agregar por separado:\n",
    "#Un elemento solo\n",
    "#Un par de elementos a la vez.\n",
    "\n",
    "compra.add(\"aceite\")\n",
    "print(compra)\n",
    "#actualizacion\n",
    "#actualización= \"[agua\",\"cereales\"]\n",
    "compra.update([\"agua\", \"cereales\"])"
   ]
  },
  {
   "cell_type": "code",
   "outputs": [
    {
     "name": "stdout",
     "output_type": "stream",
     "text": [
      "{'pimienta', 'jamon', 'zumo', 'aceite', 'agua', 'cereales', 'tomates', 'leche', 'aguacate', 'pan'}\n"
     ]
    }
   ],
   "source": [
    "compra.add(\"zumo\")\n",
    "print(compra)"
   ],
   "metadata": {
    "collapsed": false,
    "ExecuteTime": {
     "end_time": "2024-02-11T00:40:46.366689600Z",
     "start_time": "2024-02-11T00:40:46.355739700Z"
    }
   },
   "execution_count": 3
  },
  {
   "cell_type": "code",
   "execution_count": 5,
   "metadata": {
    "ExecuteTime": {
     "end_time": "2024-02-11T00:41:43.673987700Z",
     "start_time": "2024-02-11T00:41:43.665660200Z"
    }
   },
   "outputs": [
    {
     "name": "stdout",
     "output_type": "stream",
     "text": [
      "{'jamon', 'zumo', 'aceite', 'agua', 'cereales', 'tomates', 'leche', 'aguacate', 'pan'}\n"
     ]
    }
   ],
   "source": [
    "#4.Eliminar un elemento de un conjunto\n",
    "#Descripción: Usando el set creado en el ejercicio 2, elimina un elemento especificado por el usuario.\n",
    "\n",
    "compra.pop()\n",
    "print(compra)"
   ]
  },
  {
   "cell_type": "code",
   "outputs": [
    {
     "data": {
      "text/plain": "True"
     },
     "execution_count": 6,
     "metadata": {},
     "output_type": "execute_result"
    }
   ],
   "source": [
    "#5..Verificar la pertenencia de un elemento en un conjunto\n",
    "#Descripción: Usando el set creado en el ejercicio 2, verifica si un elemento específico está presente en él.\n",
    "\"pan\" in compra"
   ],
   "metadata": {
    "collapsed": false,
    "ExecuteTime": {
     "end_time": "2024-02-11T00:43:26.535711700Z",
     "start_time": "2024-02-11T00:43:26.526211300Z"
    }
   },
   "execution_count": 6
  },
  {
   "cell_type": "code",
   "execution_count": null,
   "metadata": {},
   "outputs": [],
   "source": [
    "#6.Realizar una unión de conjuntos\n",
    "#Descripción: Dados dos conjuntos, realiza una unión de ellos."
   ]
  },
  {
   "cell_type": "code",
   "outputs": [],
   "source": [
    "bebidas={\"cerveza\",\"vino\",\"redbull\",\"cocacola\",\"agua\"}"
   ],
   "metadata": {
    "collapsed": false,
    "ExecuteTime": {
     "end_time": "2024-02-11T00:47:24.385246100Z",
     "start_time": "2024-02-11T00:47:24.379246800Z"
    }
   },
   "execution_count": 13
  },
  {
   "cell_type": "code",
   "outputs": [
    {
     "name": "stdout",
     "output_type": "stream",
     "text": [
      "{'pimienta', 'tomates', 'jamon', 'leche', 'redbull', 'cerveza', 'vino', 'cocacola', 'aguacate', 'pan', 'agua'}\n"
     ]
    }
   ],
   "source": [
    "lista_compra= compra.union(bebidas) \n",
    "print(lista_compra)"
   ],
   "metadata": {
    "collapsed": false,
    "ExecuteTime": {
     "end_time": "2024-02-11T00:59:02.027315200Z",
     "start_time": "2024-02-11T00:59:02.017416400Z"
    }
   },
   "execution_count": 22
  },
  {
   "cell_type": "code",
   "execution_count": null,
   "metadata": {},
   "outputs": [],
   "source": [
    "#7.Realizar una intersección de conjuntos\n",
    "#Descripción: Usando dos conjuntos de datos definidos en el ejercicio anterior, realiza una intersección de ellos."
   ]
  },
  {
   "cell_type": "code",
   "outputs": [],
   "source": [
    "interseccion_compra= compra.intersection(bebidas)"
   ],
   "metadata": {
    "collapsed": false,
    "ExecuteTime": {
     "end_time": "2024-02-11T00:59:32.364569500Z",
     "start_time": "2024-02-11T00:59:32.355582100Z"
    }
   },
   "execution_count": 23
  },
  {
   "cell_type": "code",
   "outputs": [
    {
     "name": "stdout",
     "output_type": "stream",
     "text": [
      "set()\n"
     ]
    }
   ],
   "source": [
    "print(interseccion_compra)"
   ],
   "metadata": {
    "collapsed": false,
    "ExecuteTime": {
     "end_time": "2024-02-11T00:59:34.368528200Z",
     "start_time": "2024-02-11T00:59:34.357671600Z"
    }
   },
   "execution_count": 24
  },
  {
   "cell_type": "code",
   "outputs": [],
   "source": [
    "#8.Realizar una diferencia de conjuntos\n",
    "#Descripción: Usando dos conjuntos de datos definidos en el ejercicio anterior, realiza una diferencia entre ellos."
   ],
   "metadata": {
    "collapsed": false
   }
  },
  {
   "cell_type": "code",
   "outputs": [
    {
     "name": "stdout",
     "output_type": "stream",
     "text": [
      "{'pimienta', 'tomates', 'jamon', 'leche', 'aguacate', 'pan'}\n"
     ]
    }
   ],
   "source": [
    "diferencia_compra= compra.difference(bebidas)\n",
    "print(diferencia_compra)"
   ],
   "metadata": {
    "collapsed": false,
    "ExecuteTime": {
     "end_time": "2024-02-11T00:59:52.803605800Z",
     "start_time": "2024-02-11T00:59:52.792185800Z"
    }
   },
   "execution_count": 25
  },
  {
   "cell_type": "code",
   "outputs": [],
   "source": [
    "#9.Verificar si un conjunto es subconjunto de otro\n",
    "#Descripción: Dados dos conjuntos, verifica si uno es subconjunto del otro."
   ],
   "metadata": {
    "collapsed": false
   }
  },
  {
   "cell_type": "code",
   "outputs": [
    {
     "name": "stdout",
     "output_type": "stream",
     "text": [
      "{'tomates', 'aguacate', 'jamon', 'leche', 'pimienta', 'pan'}\n"
     ]
    }
   ],
   "source": [
    "compra.issubset(bebidas)\n",
    "print(compra)"
   ],
   "metadata": {
    "collapsed": false,
    "ExecuteTime": {
     "end_time": "2024-02-11T00:59:56.006357800Z",
     "start_time": "2024-02-11T00:59:55.997859300Z"
    }
   },
   "execution_count": 26
  }
 ],
 "metadata": {
  "kernelspec": {
   "display_name": "base",
   "language": "python",
   "name": "python3"
  },
  "language_info": {
   "codemirror_mode": {
    "name": "ipython",
    "version": 3
   },
   "file_extension": ".py",
   "mimetype": "text/x-python",
   "name": "python",
   "nbconvert_exporter": "python",
   "pygments_lexer": "ipython3",
   "version": "3.9.0"
  }
 },
 "nbformat": 4,
 "nbformat_minor": 2
}
