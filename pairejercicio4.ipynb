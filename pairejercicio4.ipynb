{
 "cells": [
  {
   "cell_type": "code",
   "execution_count": 1,
   "metadata": {
    "ExecuteTime": {
     "end_time": "2024-02-11T01:09:24.721277800Z",
     "start_time": "2024-02-11T01:09:21.858123Z"
    }
   },
   "outputs": [
    {
     "name": "stdout",
     "output_type": "stream",
     "text": [
      "el numero es positivo\n"
     ]
    }
   ],
   "source": [
    "#1.Verificar si un número es positivo, negativo o cero\n",
    "#Descripción: Dado un número, verifica si es positivo, negativo o cero.\n",
    "numero=int(input(\"inserte un numero\"))\n",
    "if numero == 0:\n",
    "    print(\"el numero es cero\")\n",
    "elif numero > 0:\n",
    "    print(\"el numero es positivo\")\n",
    "else:\n",
    "    print(\"el numero es negativo\")\n",
    "\n"
   ]
  },
  {
   "cell_type": "code",
   "execution_count": 7,
   "metadata": {
    "ExecuteTime": {
     "end_time": "2024-02-11T01:11:46.209232800Z",
     "start_time": "2024-02-11T01:11:44.760931500Z"
    }
   },
   "outputs": [
    {
     "name": "stdout",
     "output_type": "stream",
     "text": [
      "5 es impar\n"
     ]
    }
   ],
   "source": [
    "#2.Verificar si un número es par o impar\n",
    "#Descripción: Dado un número, verifica si es par o impar.\n",
    "\n",
    "numero1=int(input(\"ingrese un numero\"))\n",
    "if numero1%2 ==0:\n",
    "    print(f\"{numero1} es par\")\n",
    "else:\n",
    "    print(f\"{numero1} es impar\")"
   ]
  },
  {
   "cell_type": "code",
   "execution_count": 8,
   "metadata": {
    "ExecuteTime": {
     "end_time": "2024-02-11T01:12:36.831123100Z",
     "start_time": "2024-02-11T01:12:34.447616300Z"
    }
   },
   "outputs": [
    {
     "name": "stdout",
     "output_type": "stream",
     "text": [
      "has aprobado\n"
     ]
    }
   ],
   "source": [
    "#3.Verificar si un estudiante aprobó o suspendió un examen\n",
    "#Descripción: Dada la calificación de un estudiante en un examen, verifica si aprobó o suspendió (si la calificación es mayor o igual a 60 se considera aprobado).\n",
    "numero3=int(input(\"Ingresa tu notas\"))\n",
    "if numero3 >=60:\n",
    "    print(\"has aprobado\") \n",
    "else:\n",
    "    print(\"Has suspendido\")"
   ]
  },
  {
   "cell_type": "code",
   "execution_count": 10,
   "metadata": {},
   "outputs": [
    {
     "name": "stdout",
     "output_type": "stream",
     "text": [
      "20\n"
     ]
    }
   ],
   "source": [
    "#4.Calcular el máximo entre dos números\n",
    "#Descripción: Dados dos números, encuentra el máximo entre ellos.\n",
    "var1=[4,20]\n",
    "print(max(var1))"
   ]
  },
  {
   "cell_type": "code",
   "execution_count": 10,
   "metadata": {
    "ExecuteTime": {
     "end_time": "2024-02-11T01:14:24.438037800Z",
     "start_time": "2024-02-11T01:14:22.235766600Z"
    }
   },
   "outputs": [
    {
     "name": "stdout",
     "output_type": "stream",
     "text": [
      "p es una consonante\n"
     ]
    }
   ],
   "source": [
    "#5.Verificar si una letra es una vocal o una consonante\n",
    "#Descripción: Dada una letra, verifica si es una vocal o una consonante\n",
    "letra=str(input(\"dime una letra\"))\n",
    "\n",
    "if letra == \"a\" or letra== \"e\" or letra==\"i\" or letra==\"o\" or letra==\"u\":\n",
    "    print(f\"{letra} es una vocal\")\n",
    "\n",
    "else: \n",
    "    print(letra,\"es una consonante\") "
   ]
  },
  {
   "cell_type": "code",
   "execution_count": 12,
   "metadata": {
    "ExecuteTime": {
     "end_time": "2024-02-11T01:15:18.322756800Z",
     "start_time": "2024-02-11T01:15:14.704508200Z"
    }
   },
   "outputs": [
    {
     "name": "stdout",
     "output_type": "stream",
     "text": [
      "la cantidad final es 450.0\n"
     ]
    }
   ],
   "source": [
    "#6.Calcular el descuento en una compra según el monto total\n",
    "#Descripción: Dado el monto total de una compra, calcula el descuento aplicado según las siguientes condiciones:\n",
    "# si el monto es mayor o igual a $100, aplica un descuento del 10%; de lo contrario, no aplica ningún descuento.\n",
    "compra=int(input(\"cuánto te ha costado?\"))\n",
    "if compra > 100:\n",
    "    print(\"la cantidad final es\", compra -(compra* 0.10))\n",
    "else:\n",
    "    print(\"no hay descuento\")"
   ]
  },
  {
   "cell_type": "code",
   "execution_count": 47,
   "metadata": {},
   "outputs": [
    {
     "name": "stdout",
     "output_type": "stream",
     "text": [
      "2023 no es bisiesto\n"
     ]
    }
   ],
   "source": [
    "#7.Verificar si un año es bisiesto o no\n",
    "#Descripción: Dado un año, verifica si es bisiesto o no (un año es bisiesto si es divisible entre 4, \n",
    "#excepto aquellos divisibles entre 100 pero no entre 400).\n",
    "\n",
    "\n",
    "año= int(input(\"dime un año\"))\n",
    "if año %4 ==0:\n",
    "    if año % 100 ==0:\n",
    "        if año % 400 ==0:\n",
    "            print((\"año bisiesto\"))\n",
    "        else:\n",
    "            print(\"año no bisiesto\")\n",
    "    else:\n",
    "        print(\"año bisisesto\")\n",
    "else: \n",
    "    print(\"año no bisiesto\")        \n"
   ]
  },
  {
   "cell_type": "code",
   "execution_count": null,
   "metadata": {
    "collapsed": false
   },
   "outputs": [],
   "source": []
  },
  {
   "cell_type": "code",
   "execution_count": 54,
   "metadata": {},
   "outputs": [
    {
     "name": "stdout",
     "output_type": "stream",
     "text": [
      "bebe\n"
     ]
    }
   ],
   "source": [
    "#8.Asignar una categoría a una edad\n",
    "#Descripción: Dada una edad, asigna una categoría según las siguientes condiciones:\n",
    "# si la edad es menor de 18, la categoría es \"Menor de edad\"; si la edad está entre 18 y 64 (incluyendo ambos), \n",
    "#la categoría es \"Adulto\"; de lo contrario, la categoría es \"Adulto mayor\".\n",
    "\n",
    "edad=int(input(\"inserte una edad\"))\n",
    "if edad <=0:\n",
    "     print(\"bebe\") \n",
    "elif edad < 18 :\n",
    "     print(edad, \"menor de edad\")\n",
    "elif edad >=18 and edad <= 64:\n",
    "     print(edad, \"adulto\")\n",
    "else: \n",
    "     print(edad, \"adulto mayor\")\n"
   ]
  },
  {
   "cell_type": "code",
   "execution_count": null,
   "metadata": {},
   "outputs": [],
   "source": [
    "#9.Verificar si tres números forman un triángulo rectángulo\n",
    "#Descripción: Dados tres números, verifica si forman un triángulo rectángulo (si se cumple el teorema de Pitágoras).\n",
    "#c2=a2+b2\n",
    "#c es la longitud de la hipotenusa.a y b son las longitudes de los otros dos lados del triángulo rectángulo."
   ]
  },
  {
   "cell_type": "code",
   "execution_count": 21,
   "metadata": {
    "ExecuteTime": {
     "end_time": "2024-02-11T01:29:28.321890800Z",
     "start_time": "2024-02-11T01:29:28.314898400Z"
    },
    "collapsed": false
   },
   "outputs": [],
   "source": [
    "a=4\n",
    "b=3\n",
    "c=5"
   ]
  },
  {
   "cell_type": "code",
   "execution_count": 22,
   "metadata": {
    "ExecuteTime": {
     "end_time": "2024-02-11T01:29:31.765859300Z",
     "start_time": "2024-02-11T01:29:31.760861200Z"
    },
    "collapsed": false
   },
   "outputs": [
    {
     "name": "stdout",
     "output_type": "stream",
     "text": [
      "no es retangulo\n"
     ]
    }
   ],
   "source": [
    "if c**2==b**2+a**2:\n",
    "    print(f\"si es retangulo \")\n",
    "else:\n",
    "    print(\"no es retangulo\")"
   ]
  },
  {
   "cell_type": "code",
   "execution_count": 55,
   "metadata": {},
   "outputs": [
    {
     "name": "stdout",
     "output_type": "stream",
     "text": [
      "A\n"
     ]
    }
   ],
   "source": [
    "#10.Asignar una calificación a una puntuacion\n",
    "#Descripción: Dada una puntuación, asigna una calificación según las siguientes condiciones: si la puntuación es mayor o igual a 90, la calificación es \"A\"; \n",
    "#si es mayor o igual a 80, la calificación es \"B\"; si es mayor o igual a 70, la calificación es \"C\"; si es mayor o igual a 60, la calificación es \"D\"; de lo contrario, la calificación es \"F\".\n",
    "puntuacion=int(input(\"inserta la puntuacion\"))\n",
    "if puntuacion >= 90:\n",
    "    print('Tu calificación es A')\n",
    "elif puntuacion >= 80: \n",
    "    print\n"
   ]
  },
  {
   "cell_type": "code",
   "execution_count": null,
   "metadata": {
    "collapsed": false
   },
   "outputs": [],
   "source": [
    "#11.Calcular el índice de masa corporal (IMC) y categorizarlo\n",
    "#Descripción: Dados el peso (en kg) y la altura (en metros) de una persona, calcula su IMC y categorízalo según las siguientes condiciones: si el IMC es menor a 18.5, es \"Bajo peso\"; si está entre 18.5 y 24.9 (inclusive), es \"Peso normal\"; si está entre 25 y 29.9 (inclusive), es \"Sobrepeso\"; de lo contrario, es \"Obesidad\".\n"
   ]
  },
  {
   "cell_type": "code",
   "execution_count": 24,
   "metadata": {
    "ExecuteTime": {
     "end_time": "2024-02-11T02:06:28.825444300Z",
     "start_time": "2024-02-11T02:06:24.809288Z"
    },
    "collapsed": false
   },
   "outputs": [
    {
     "name": "stdout",
     "output_type": "stream",
     "text": [
      " IMC 10.0 Bajo Peso \n"
     ]
    }
   ],
   "source": [
    "peso=float(input(\"inserta el peso\"))\n",
    "if peso <18.5:\n",
    "    print(f\" IMC {peso} Bajo Peso \")\n",
    "elif peso >= 18.5 and peso <= 24.5:\n",
    "    print(f\" IMC {peso} Peso Normal\")\n",
    "elif peso >= 25 and peso <=29.9:\n",
    "    print(f\" IMC {peso} Sobrepeso\")\n",
    "else:\n",
    "    print(f\" IMC {peso} Obesidad\")"
   ]
  },
  {
   "cell_type": "code",
   "execution_count": null,
   "metadata": {
    "collapsed": false
   },
   "outputs": [],
   "source": [
    "#12 Calcular el mayor de tres números\n",
    "#Descripción: Dados tres números, encuentra el mayor entre ellos.\n"
   ]
  },
  {
   "cell_type": "code",
   "execution_count": 33,
   "metadata": {
    "ExecuteTime": {
     "end_time": "2024-02-11T11:12:48.809865600Z",
     "start_time": "2024-02-11T11:12:44.887373Z"
    },
    "collapsed": false
   },
   "outputs": [
    {
     "name": "stdout",
     "output_type": "stream",
     "text": [
      "El primer numero que es 3 es mayor\n"
     ]
    }
   ],
   "source": [
    "num1=int(input(\"inserta un numero\"))\n",
    "num2=int(input(\"inserta un numero\"))\n",
    "num3=int(input(\"inserta un numero\"))\n",
    "\n",
    "if num1 >= num2 and num1 >= num3:\n",
    "    print(f\"El primer numero que es {num1} es mayor\")\n",
    "elif num2 >= num1 and num2 >= num3:\n",
    "    print(f\"El segundo numero que es {num2} es mayor\")\n",
    "elif num3 >= num1 and num3 >= num2:\n",
    "    print(f\" El tercer numero que es {num3} es mayor\")\n",
    "else: \n",
    "    print(f\" los numeros son {num1} {num2} y {num3}\")"
   ]
  },
  {
   "cell_type": "code",
   "execution_count": null,
   "metadata": {},
   "outputs": [],
   "source": [
    "#13.BONUS sentencias de control: Verificar la validez de una fecha\n",
    "#Descripción: Dados el día, el mes y el año de una fecha, verifica si la fecha es válida."
   ]
  },
  {
   "cell_type": "code",
   "execution_count": 27,
   "metadata": {
    "ExecuteTime": {
     "end_time": "2024-02-11T02:07:51.327473200Z",
     "start_time": "2024-02-11T02:07:51.322483700Z"
    },
    "collapsed": false
   },
   "outputs": [],
   "source": [
    "from datetime import datetime"
   ]
  },
  {
   "cell_type": "code",
   "execution_count": null,
   "metadata": {
    "collapsed": false
   },
   "outputs": [],
   "source": []
  },
  {
   "cell_type": "markdown",
   "metadata": {
    "collapsed": false
   },
   "source": [
    "# Ejercicios while"
   ]
  },
  {
   "cell_type": "code",
   "execution_count": null,
   "metadata": {
    "collapsed": false
   },
   "outputs": [],
   "source": [
    "#1. Calcular la suma de los primeros 10 números naturales utilizando un bucle while\n",
    "#Descripción: Utiliza un bucle while para calcular la suma de los primeros 10 números naturales (1 + 2 + 3 + ... + 10)."
   ]
  },
  {
   "cell_type": "code",
   "execution_count": 38,
   "metadata": {
    "ExecuteTime": {
     "end_time": "2024-02-11T02:21:57.104916100Z",
     "start_time": "2024-02-11T02:21:57.099831900Z"
    },
    "collapsed": false
   },
   "outputs": [
    {
     "name": "stdout",
     "output_type": "stream",
     "text": [
      "1\n",
      "3\n",
      "6\n",
      "10\n",
      "15\n",
      "21\n",
      "28\n",
      "36\n",
      "45\n",
      "55\n"
     ]
    }
   ],
   "source": [
    "lista_numeros = [1,2,3,4,5,6,7,8,9,10]\n",
    "\n",
    "suma = 0  \n",
    "indice = 0\n",
    "while indice < len(lista_numeros):\n",
    "    suma += lista_numeros[indice] \n",
    "    indice += 1\n",
    "    print(suma)"
   ]
  },
  {
   "cell_type": "code",
   "execution_count": 39,
   "metadata": {
    "ExecuteTime": {
     "end_time": "2024-02-11T11:15:21.440091700Z",
     "start_time": "2024-02-11T11:15:21.433602100Z"
    },
    "collapsed": false
   },
   "outputs": [
    {
     "name": "stdout",
     "output_type": "stream",
     "text": [
      "55\n"
     ]
    }
   ],
   "source": [
    "suma=0\n",
    "indice=1\n",
    "while indice <=10:\n",
    "    suma += indice\n",
    "    indice += 1\n",
    "print(suma)"
   ]
  },
  {
   "cell_type": "code",
   "execution_count": null,
   "metadata": {
    "collapsed": false
   },
   "outputs": [],
   "source": [
    "#2.Juego de adivinanza utilizando un bucle while\n",
    "# Descripción: Crea un juego de adivinanza en el que el jugador tiene que adivinar un número secreto (tendrá que ser entre el 0 y el 10). Utiliza un bucle while para permitir múltiples intentos hasta que el jugador adivine correctamente."
   ]
  },
  {
   "cell_type": "code",
   "execution_count": 8,
   "metadata": {
    "ExecuteTime": {
     "end_time": "2024-02-11T10:39:24.804789600Z",
     "start_time": "2024-02-11T10:39:24.797289500Z"
    },
    "collapsed": false
   },
   "outputs": [],
   "source": [
    "import random"
   ]
  },
  {
   "cell_type": "code",
   "execution_count": 9,
   "metadata": {
    "ExecuteTime": {
     "end_time": "2024-02-11T10:40:00.584135100Z",
     "start_time": "2024-02-11T10:40:00.577633500Z"
    },
    "collapsed": false
   },
   "outputs": [],
   "source": [
    "numero_secreto = random.randint(0,10)"
   ]
  },
  {
   "cell_type": "code",
   "execution_count": 40,
   "metadata": {
    "ExecuteTime": {
     "end_time": "2024-02-11T12:26:03.589026200Z",
     "start_time": "2024-02-11T12:25:59.435489500Z"
    },
    "collapsed": false
   },
   "outputs": [
    {
     "name": "stdout",
     "output_type": "stream",
     "text": [
      "4\n"
     ]
    }
   ],
   "source": [
    "adivina=int(input(\"Ingrese un numero entre 0 y 10\"))\n",
    "print(adivina)"
   ]
  },
  {
   "cell_type": "code",
   "execution_count": 46,
   "metadata": {
    "ExecuteTime": {
     "end_time": "2024-02-11T12:35:42.089286Z",
     "start_time": "2024-02-11T12:35:38.868746700Z"
    },
    "collapsed": false
   },
   "outputs": [
    {
     "name": "stdout",
     "output_type": "stream",
     "text": [
      "no has adivinado\n",
      "no has adivinado\n",
      "no has adivinado\n",
      "no has adivinado\n",
      "has adivinado en el intento  5\n"
     ]
    }
   ],
   "source": [
    "intentos=1\n",
    "numero_secreto = random.randint(0, 10)\n",
    "\n",
    "while True:\n",
    "    adivina = int(input(\"Ingrese un numero entre 0 y 10\"))\n",
    "    if numero_secreto == adivina:\n",
    "        print(\"has adivinado en el intento \",intentos)\n",
    "        break\n",
    "    else:\n",
    "        print(\"no has adivinado\")\n",
    "    intentos+=1\n",
    "    "
   ]
  }
 ],
 "metadata": {
  "kernelspec": {
   "display_name": "base",
   "language": "python",
   "name": "python3"
  },
  "language_info": {
   "codemirror_mode": {
    "name": "ipython",
    "version": 3
   },
   "file_extension": ".py",
   "mimetype": "text/x-python",
   "name": "python",
   "nbconvert_exporter": "python",
   "pygments_lexer": "ipython3",
   "version": "3.9.0"
  }
 },
 "nbformat": 4,
 "nbformat_minor": 2
}
