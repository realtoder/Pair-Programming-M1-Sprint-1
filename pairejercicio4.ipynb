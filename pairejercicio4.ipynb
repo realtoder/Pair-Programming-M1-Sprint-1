{
 "cells": [
  {
   "cell_type": "code",
   "execution_count": 1,
   "metadata": {},
   "outputs": [
    {
     "name": "stdout",
     "output_type": "stream",
     "text": [
      "el numero es positivo\n"
     ]
    }
   ],
   "source": [
    "#1.Verificar si un número es positivo, negativo o cero\n",
    "#Descripción: Dado un número, verifica si es positivo, negativo o cero.\n",
    "numero=int(input(\"inserte un numero\"))\n",
    "if numero == 0:\n",
    "    print(\"el numero es cero\")\n",
    "elif numero > 0:\n",
    "    print(\"el numero es positivo\")\n",
    "else:\n",
    "    print(\"el numero es negativo\")\n",
    "\n"
   ]
  },
  {
   "cell_type": "code",
   "execution_count": 2,
   "metadata": {},
   "outputs": [
    {
     "name": "stdout",
     "output_type": "stream",
     "text": [
      "el numero es par\n"
     ]
    }
   ],
   "source": [
    "#Verificar si un número es par o impar\n",
    "#Descripción: Dado un número, verifica si es par o impar.\n",
    "\n",
    "numero1=int(input(\"ingrese un numero\"))\n",
    "if numero1%2 ==0:\n",
    "    print(\"el numero es par\")\n",
    "else:\n",
    "    print(\"numero es impar\")"
   ]
  },
  {
   "cell_type": "code",
   "execution_count": 3,
   "metadata": {},
   "outputs": [
    {
     "name": "stdout",
     "output_type": "stream",
     "text": [
      "Has suspendido\n"
     ]
    }
   ],
   "source": [
    "#Verificar si un estudiante aprobó o suspendió un examen\n",
    "#Descripción: Dada la calificación de un estudiante en un examen, verifica si aprobó o suspendió (si la calificación es mayor o igual a 60 se considera aprobado).\n",
    "numero3=int(input(\"Ingresa tu notas\"))\n",
    "if numero3 >=60:\n",
    "    print(\"has aprobado\") \n",
    "else:\n",
    "    print(\"Has suspendido\")"
   ]
  },
  {
   "cell_type": "code",
   "execution_count": 10,
   "metadata": {},
   "outputs": [
    {
     "name": "stdout",
     "output_type": "stream",
     "text": [
      "20\n"
     ]
    }
   ],
   "source": [
    "#Calcular el máximo entre dos números\n",
    "#Descripción: Dados dos números, encuentra el máximo entre ellos.\n",
    "var1=[4,20]\n",
    "print(max(var1))"
   ]
  },
  {
   "cell_type": "code",
   "execution_count": 27,
   "metadata": {},
   "outputs": [
    {
     "name": "stdout",
     "output_type": "stream",
     "text": [
      "c es una consonante\n"
     ]
    }
   ],
   "source": [
    "#Verificar si una letra es una vocal o una consonante\n",
    "#Descripción: Dada una letra, verifica si es una vocal o una consonante\n",
    "letra=str(input(\"dime una letra\"))\n",
    "\n",
    "if letra == \"a\" or letra== \"e\" or letra==\"i\" or letra==\"o\" or letra==\"u\":\n",
    "    print(letra, \"es una vocal\")\n",
    "\n",
    "else: \n",
    "    print(letra,\"es una consonante\") "
   ]
  },
  {
   "cell_type": "code",
   "execution_count": 30,
   "metadata": {},
   "outputs": [
    {
     "name": "stdout",
     "output_type": "stream",
     "text": [
      "no hay descuento\n"
     ]
    }
   ],
   "source": [
    "#Calcular el descuento en una compra según el monto total\n",
    "#Descripción: Dado el monto total de una compra, calcula el descuento aplicado según las siguientes condiciones:\n",
    "# si el monto es mayor o igual a $100, aplica un descuento del 10%; de lo contrario, no aplica ningún descuento.\n",
    "compra=int(input(\"cuánto te ha costado?\"))\n",
    "if compra > 100:\n",
    "    print(\"la cantidad final es\", compra -(compra* 0.10))\n",
    "else:\n",
    "    print(\"no hay descuento\")"
   ]
  },
  {
   "cell_type": "code",
   "execution_count": 47,
   "metadata": {},
   "outputs": [
    {
     "name": "stdout",
     "output_type": "stream",
     "text": [
      "2023 no es bisiesto\n"
     ]
    }
   ],
   "source": [
    "#Verificar si un año es bisiesto o no\n",
    "#Descripción: Dado un año, verifica si es bisiesto o no (un año es bisiesto si es divisible entre 4, \n",
    "#excepto aquellos divisibles entre 100 pero no entre 400).\n",
    "año= int(input(\"dime un año\"))\n",
    "if año %4 ==0:\n",
    "#not año % 4 and (año % 100 or not año % 400):\n",
    "    print(año,\"año bisiesto\")\n",
    "else:\n",
    "    print(año, \"no es bisiesto\")"
   ]
  },
  {
   "cell_type": "code",
   "execution_count": 54,
   "metadata": {},
   "outputs": [
    {
     "name": "stdout",
     "output_type": "stream",
     "text": [
      "bebe\n"
     ]
    }
   ],
   "source": [
    "#Asignar una categoría a una edad\n",
    "#Descripción: Dada una edad, asigna una categoría según las siguientes condiciones:\n",
    "# si la edad es menor de 18, la categoría es \"Menor de edad\"; si la edad está entre 18 y 64 (incluyendo ambos), \n",
    "#la categoría es \"Adulto\"; de lo contrario, la categoría es \"Adulto mayor\".\n",
    "\n",
    "edad=int(input(\"inserte una edad\"))\n",
    "if edad <=0:\n",
    "     print(\"bebe\") \n",
    "elif edad < 18 :\n",
    "     print(edad, \"menor de edad\")\n",
    "elif edad >=18 and edad <= 64:\n",
    "     print(edad, \"adulto\")\n",
    "else: \n",
    "     print(edad, \"adulto mayor\")\n"
   ]
  },
  {
   "cell_type": "code",
   "execution_count": null,
   "metadata": {},
   "outputs": [],
   "source": [
    "#Verificar si tres números forman un triángulo rectángulo\n",
    "#Descripción: Dados tres números, verifica si forman un triángulo rectángulo (si se cumple el teorema de Pitágoras).\n",
    "triangulo=int(input(\"dime 3 numeros\"))\n"
   ]
  },
  {
   "cell_type": "code",
   "execution_count": 55,
   "metadata": {},
   "outputs": [
    {
     "name": "stdout",
     "output_type": "stream",
     "text": [
      "A\n"
     ]
    }
   ],
   "source": [
    "#Asignar una calificación a una puntuacion\n",
    "#Descripción: Dada una puntuación, asigna una calificación según las siguientes condiciones: si la puntuación es mayor o igual a 90, la calificación es \"A\"; \n",
    "#si es mayor o igual a 80, la calificación es \"B\"; si es mayor o igual a 70, la calificación es \"C\"; si es mayor o igual a 60, la calificación es \"D\"; de lo contrario, la calificación es \"F\".\n",
    "puntuacion=int(input(\"inserta la puntuacion\"))\n",
    "if puntuacion >= 90:\n",
    "    print('Tu calificación es A')\n",
    "elif puntuacion >= 80: \n",
    "    print\n"
   ]
  },
  {
   "cell_type": "code",
   "execution_count": null,
   "metadata": {},
   "outputs": [],
   "source": []
  },
  {
   "cell_type": "code",
   "execution_count": null,
   "metadata": {},
   "outputs": [],
   "source": []
  }
 ],
 "metadata": {
  "kernelspec": {
   "display_name": "base",
   "language": "python",
   "name": "python3"
  },
  "language_info": {
   "codemirror_mode": {
    "name": "ipython",
    "version": 3
   },
   "file_extension": ".py",
   "mimetype": "text/x-python",
   "name": "python",
   "nbconvert_exporter": "python",
   "pygments_lexer": "ipython3",
   "version": "3.9.7"
  }
 },
 "nbformat": 4,
 "nbformat_minor": 2
}
