{
 "cells": [
  {
   "cell_type": "markdown",
   "metadata": {},
   "source": [
    "# Pair programming Variables"
   ]
  },
  {
   "cell_type": "code",
   "execution_count": 1,
   "metadata": {
    "ExecuteTime": {
     "end_time": "2024-02-10T17:09:05.546513800Z",
     "start_time": "2024-02-10T17:09:05.512359900Z"
    }
   },
   "outputs": [],
   "source": [
    "# Cread tres variables numéricas de tipo integer (entero), llamadas de la siguiente forma:\n",
    "numero1= 2\n",
    "numero2= 21\n",
    "numero3= 1994"
   ]
  },
  {
   "cell_type": "code",
   "execution_count": 2,
   "metadata": {
    "ExecuteTime": {
     "end_time": "2024-02-10T17:09:05.573627100Z",
     "start_time": "2024-02-10T17:09:05.553508Z"
    }
   },
   "outputs": [
    {
     "data": {
      "text/plain": "False"
     },
     "execution_count": 2,
     "metadata": {},
     "output_type": "execute_result"
    }
   ],
   "source": [
    "# Utilizando los operadores lógicos:\n",
    "\n",
    "#En vuestro caso, es el numero1 mayor que el numero2\n",
    "numero1 > numero2\n",
    "#Es el numero1 menor que el numero2 pero mayor que el numero3\n",
    "numero1 < numero2\n",
    "#Es el numero3 igual que el numero2\n",
    "numero1 = numero2\n",
    "#Es el numero2 distinto que el numero1\n",
    "numero2 != numero1"
   ]
  },
  {
   "cell_type": "code",
   "execution_count": 3,
   "metadata": {
    "ExecuteTime": {
     "end_time": "2024-02-10T17:09:05.591669Z",
     "start_time": "2024-02-10T17:09:05.575624700Z"
    }
   },
   "outputs": [
    {
     "name": "stdout",
     "output_type": "stream",
     "text": [
      "False\n"
     ]
    }
   ],
   "source": [
    "print(isinstance(numero1,str))"
   ]
  },
  {
   "cell_type": "code",
   "execution_count": 4,
   "metadata": {
    "ExecuteTime": {
     "end_time": "2024-02-10T17:09:05.592667700Z",
     "start_time": "2024-02-10T17:09:05.581170100Z"
    }
   },
   "outputs": [],
   "source": [
    "#Cread dos variables numéricas de tipo float (decimal) con dos decimales, llamadas de la siguiente forma:\n",
    "\n",
    "altura1= 1.2\n",
    "altura2= 3.4"
   ]
  },
  {
   "cell_type": "code",
   "execution_count": 5,
   "metadata": {
    "ExecuteTime": {
     "end_time": "2024-02-10T17:09:05.651654300Z",
     "start_time": "2024-02-10T17:09:05.596679800Z"
    }
   },
   "outputs": [
    {
     "data": {
      "text/plain": "4.6"
     },
     "execution_count": 5,
     "metadata": {},
     "output_type": "execute_result"
    }
   ],
   "source": [
    "#Utilizando los operadores matemáticos aprendidos en la lección:\n",
    "\n",
    "#Cuál es la suma de las dos alturas\n",
    "altura1+altura2"
   ]
  },
  {
   "cell_type": "code",
   "execution_count": 6,
   "metadata": {
    "ExecuteTime": {
     "end_time": "2024-02-10T17:09:05.652653300Z",
     "start_time": "2024-02-10T17:09:05.600680100Z"
    }
   },
   "outputs": [
    {
     "data": {
      "text/plain": "-2.2"
     },
     "execution_count": 6,
     "metadata": {},
     "output_type": "execute_result"
    }
   ],
   "source": [
    "#Cuál es la diferencia entre las alturas\n",
    "altura1-altura2"
   ]
  },
  {
   "cell_type": "code",
   "execution_count": 7,
   "metadata": {
    "ExecuteTime": {
     "end_time": "2024-02-10T17:09:05.675272700Z",
     "start_time": "2024-02-10T17:09:05.655650300Z"
    }
   },
   "outputs": [
    {
     "data": {
      "text/plain": "1.2"
     },
     "execution_count": 7,
     "metadata": {},
     "output_type": "execute_result"
    }
   ],
   "source": [
    "#Cuál es el resto de la división de las dos alturas\n",
    "altura1 % altura2 "
   ]
  },
  {
   "cell_type": "code",
   "execution_count": 8,
   "metadata": {
    "ExecuteTime": {
     "end_time": "2024-02-10T17:09:05.735257800Z",
     "start_time": "2024-02-10T17:09:05.677271100Z"
    }
   },
   "outputs": [
    {
     "data": {
      "text/plain": "0.0"
     },
     "execution_count": 8,
     "metadata": {},
     "output_type": "execute_result"
    }
   ],
   "source": [
    "#Cuál es resultado de la división de las dos alturas, redondead el resultado a un decimal.\n",
    "altura1 // altura2"
   ]
  },
  {
   "cell_type": "code",
   "execution_count": 9,
   "metadata": {
    "ExecuteTime": {
     "end_time": "2024-02-10T17:09:09.417364Z",
     "start_time": "2024-02-10T17:09:05.737255900Z"
    }
   },
   "outputs": [
    {
     "name": "stdout",
     "output_type": "stream",
     "text": [
      "LAURA GENESIS\n"
     ]
    }
   ],
   "source": [
    "#Escribid un programa usando la función input() que le pregunte al usuario su nombre y apellidos. Una vez que tengamos el nombre del usuario:\n",
    "\n",
    "#Printead su nombre y apellidos todo en mayúsculas\n",
    "nombre=input(\"Dime tu nombre apellido\")\n",
    "print(nombre.upper())"
   ]
  },
  {
   "cell_type": "code",
   "execution_count": 10,
   "metadata": {
    "ExecuteTime": {
     "end_time": "2024-02-10T17:09:09.417364Z",
     "start_time": "2024-02-10T17:09:09.372003200Z"
    }
   },
   "outputs": [
    {
     "name": "stdout",
     "output_type": "stream",
     "text": [
      "laura genesis\n"
     ]
    }
   ],
   "source": [
    "#Printead su nombre y apellidos todo en minúsculas\n",
    "print(nombre.lower())"
   ]
  },
  {
   "cell_type": "code",
   "execution_count": 11,
   "metadata": {
    "ExecuteTime": {
     "end_time": "2024-02-10T17:09:09.419361800Z",
     "start_time": "2024-02-10T17:09:09.392881Z"
    }
   },
   "outputs": [
    {
     "name": "stdout",
     "output_type": "stream",
     "text": [
      "Laura Genesis\n"
     ]
    }
   ],
   "source": [
    "#Printead su nombre y apellidos con la primera letra del nombre y los apellidos en mayúscula y el resto en minúscula.\n",
    "print(nombre.title())"
   ]
  },
  {
   "cell_type": "code",
   "execution_count": 20,
   "metadata": {
    "ExecuteTime": {
     "end_time": "2024-02-10T17:27:38.836657300Z",
     "start_time": "2024-02-10T17:27:38.818166700Z"
    }
   },
   "outputs": [
    {
     "name": "stdout",
     "output_type": "stream",
     "text": [
      "Laura genesis\n"
     ]
    }
   ],
   "source": [
    "#Printeas solo la primera letra del nombre en mayúscula.\n",
    "print(nombre.capitalize())"
   ]
  },
  {
   "cell_type": "code",
   "execution_count": 21,
   "metadata": {
    "ExecuteTime": {
     "end_time": "2024-02-10T17:27:59.405809900Z",
     "start_time": "2024-02-10T17:27:49.221266700Z"
    }
   },
   "outputs": [
    {
     "name": "stdout",
     "output_type": "stream",
     "text": [
      "Aprobaras el curso\n"
     ]
    }
   ],
   "source": [
    "#Escribid un programa usando la función input() que\n",
    "# Le pregunte al usuario por una frase, almacenad este resultado en una variable.\n",
    "frase = input(\"Escribe una frase\")\n",
    "print(frase)"
   ]
  },
  {
   "cell_type": "code",
   "execution_count": 23,
   "metadata": {
    "ExecuteTime": {
     "end_time": "2024-02-10T17:28:17.550125100Z",
     "start_time": "2024-02-10T17:28:15.938677800Z"
    }
   },
   "outputs": [
    {
     "name": "stdout",
     "output_type": "stream",
     "text": [
      "o\n"
     ]
    }
   ],
   "source": [
    "# Le pregunte al usuario por una vocal, almacenad este resultado en una variable\n",
    "vocal = input(\"Introduce una vocal\")\n",
    "print(vocal)"
   ]
  },
  {
   "cell_type": "code",
   "execution_count": 15,
   "metadata": {
    "ExecuteTime": {
     "end_time": "2024-02-10T17:09:17.494676100Z",
     "start_time": "2024-02-10T17:09:17.420244100Z"
    }
   },
   "outputs": [
    {
     "name": "stdout",
     "output_type": "stream",
     "text": [
      "HolA como estAs\n"
     ]
    }
   ],
   "source": [
    "#Printead la misma frase pero con la vocal introducida en mayúsulas.\n",
    "print(frase.replace(vocal, vocal.upper()))"
   ]
  },
  {
   "cell_type": "code",
   "outputs": [],
   "source": [
    "# Le pregunte al usuario por la lista de la compra, separando cada elemento por comas.\n",
    "lista_compra = input(\"Introduce la lista de la compra\")"
   ],
   "metadata": {
    "collapsed": false,
    "ExecuteTime": {
     "end_time": "2024-02-10T18:10:39.779874600Z",
     "start_time": "2024-02-10T18:10:32.255999900Z"
    }
   },
   "execution_count": 73
  },
  {
   "cell_type": "code",
   "execution_count": 59,
   "metadata": {
    "ExecuteTime": {
     "end_time": "2024-02-10T18:08:26.287701900Z",
     "start_time": "2024-02-10T18:08:26.275164400Z"
    }
   },
   "outputs": [
    {
     "name": "stdout",
     "output_type": "stream",
     "text": [
      "['chocolate', 'vino', 'papel']\n"
     ]
    }
   ],
   "source": [
    "\n",
    "lista_compra_lista = [x.strip() for x in lista_compra.split(\",\")]\n",
    "print(lista_compra_lista)"
   ]
  },
  {
   "cell_type": "code",
   "execution_count": 60,
   "metadata": {
    "ExecuteTime": {
     "end_time": "2024-02-10T18:08:28.141272100Z",
     "start_time": "2024-02-10T18:08:28.132873100Z"
    }
   },
   "outputs": [
    {
     "name": "stdout",
     "output_type": "stream",
     "text": [
      "chocolate\n",
      "vino\n",
      "papel\n"
     ]
    }
   ],
   "source": [
    "# Devolved la lista de compra donde veamos cada elemento en una línea.\n",
    "lista_compra_linea = \"\\n\".join(lista_compra_lista)\n",
    "print(lista_compra_linea)"
   ]
  },
  {
   "cell_type": "code",
   "outputs": [
    {
     "name": "stdout",
     "output_type": "stream",
     "text": [
      "\"chocolate\"\n",
      "\"vino\"\n",
      "\"papel\"\n"
     ]
    }
   ],
   "source": [
    "# Devolved la lista de compra donde veamos cada elemento en una línea.\n",
    "lista_compra_linea = \"\\n\".join([f\"\\\"{x}\\\"\" for x in lista_compra_lista])\n",
    "print(lista_compra_linea)"
   ],
   "metadata": {
    "collapsed": false,
    "ExecuteTime": {
     "end_time": "2024-02-10T18:08:30.180769700Z",
     "start_time": "2024-02-10T18:08:30.171054200Z"
    }
   },
   "execution_count": 61
  },
  {
   "cell_type": "code",
   "outputs": [
    {
     "data": {
      "text/plain": "'AprObaras el cursO'"
     },
     "execution_count": 62,
     "metadata": {},
     "output_type": "execute_result"
    }
   ],
   "source": [
    "frase.replace(vocal,vocal.upper())"
   ],
   "metadata": {
    "collapsed": false,
    "ExecuteTime": {
     "end_time": "2024-02-10T18:08:32.509420300Z",
     "start_time": "2024-02-10T18:08:32.499675100Z"
    }
   },
   "execution_count": 62
  },
  {
   "cell_type": "code",
   "outputs": [
    {
     "name": "stdout",
     "output_type": "stream",
     "text": [
      "chocolate\n",
      "vino\n",
      "papel\n"
     ]
    }
   ],
   "source": [
    "lista_compra1 = \"\\n\".join(lista_compra_lista)\n",
    "print(lista_compra1)"
   ],
   "metadata": {
    "collapsed": false,
    "ExecuteTime": {
     "end_time": "2024-02-10T18:08:34.479326900Z",
     "start_time": "2024-02-10T18:08:34.469902700Z"
    }
   },
   "execution_count": 63
  },
  {
   "cell_type": "code",
   "outputs": [
    {
     "data": {
      "text/plain": "'chocolate, papel, vino'"
     },
     "execution_count": 74,
     "metadata": {},
     "output_type": "execute_result"
    }
   ],
   "source": [
    "lista_compra"
   ],
   "metadata": {
    "collapsed": false,
    "ExecuteTime": {
     "end_time": "2024-02-10T18:11:03.103150200Z",
     "start_time": "2024-02-10T18:11:03.094825700Z"
    }
   },
   "execution_count": 74
  },
  {
   "cell_type": "code",
   "outputs": [
    {
     "data": {
      "text/plain": "['chocolate', ' papel', ' vino']"
     },
     "execution_count": 79,
     "metadata": {},
     "output_type": "execute_result"
    }
   ],
   "source": [
    "lista_compralau=lista_compra.split(\",\") \n",
    "lista_compralau"
   ],
   "metadata": {
    "collapsed": false,
    "ExecuteTime": {
     "end_time": "2024-02-10T18:11:29.554640700Z",
     "start_time": "2024-02-10T18:11:29.546925300Z"
    }
   },
   "execution_count": 79
  },
  {
   "cell_type": "code",
   "outputs": [],
   "source": [
    "lista_compralau1=\"\\n\".join(lista_compralau)"
   ],
   "metadata": {
    "collapsed": false,
    "ExecuteTime": {
     "end_time": "2024-02-10T18:12:08.764020300Z",
     "start_time": "2024-02-10T18:12:08.756521300Z"
    }
   },
   "execution_count": 80
  },
  {
   "cell_type": "code",
   "outputs": [
    {
     "name": "stdout",
     "output_type": "stream",
     "text": [
      "chocolate\n",
      " papel\n",
      " vino\n"
     ]
    }
   ],
   "source": [
    "print(lista_compralau1)"
   ],
   "metadata": {
    "collapsed": false,
    "ExecuteTime": {
     "end_time": "2024-02-10T18:12:23.306218Z",
     "start_time": "2024-02-10T18:12:23.284660300Z"
    }
   },
   "execution_count": 81
  }
 ],
 "metadata": {
  "kernelspec": {
   "display_name": "base",
   "language": "python",
   "name": "python3"
  },
  "language_info": {
   "codemirror_mode": {
    "name": "ipython",
    "version": 3
   },
   "file_extension": ".py",
   "mimetype": "text/x-python",
   "name": "python",
   "nbconvert_exporter": "python",
   "pygments_lexer": "ipython3",
   "version": "3.9.7"
  }
 },
 "nbformat": 4,
 "nbformat_minor": 2
}
